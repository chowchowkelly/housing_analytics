{
 "cells": [
  {
   "cell_type": "code",
   "execution_count": 1,
   "metadata": {
    "collapsed": true
   },
   "outputs": [
    {
     "data": {
      "image/png": "[encoded data removed]",
      "text/plain": [
       "<matplotlib.figure.Figure at 0x10c546dd0>"
      ]
     },
     "metadata": {
      "image/png": {
       "height": 426,
       "width": 480
      }
     },
     "output_type": "display_data"
    }
   ],
   "source": [
    "import pandas as pd\n",
    "import numpy as np\n",
    "from scipy import stats\n",
    "import patsy\n",
    "\n",
    "### Graphing\n",
    "import matplotlib.pyplot as plt\n",
    "import seaborn as sns\n",
    "\n",
    "plt.style.use('fivethirtyeight')\n",
    "\n",
    "# Plot within the jupyter notebook\n",
    "%matplotlib inline\n",
    "# Basically, the HD version\n",
    "%config InlineBackend.figure_format = 'retina'\n",
    "\n",
    "# Create a figure size\n",
    "fig = plt.figure(figsize=(7,7))\n",
    "ax = fig.gca()\n",
    "\n"
   ]
  },
  {
   "cell_type": "code",
   "execution_count": 2,
   "metadata": {
    "collapsed": true
   },
   "outputs": [],
   "source": [
    "df  = pd.read_excel(\"/Users/KerryChowChow/Data_Science_portfolio/housing_analytics/Dataset.xlsx\")"
   ]
  },
  {
   "cell_type": "code",
   "execution_count": 3,
   "metadata": {
    "collapsed": false
   },
   "outputs": [
    {
     "data": {
      "text/html": [
       "<div>\n",
       "<table border=\"1\" class=\"dataframe\">\n",
       "  <thead>\n",
       "    <tr style=\"text-align: right;\">\n",
       "      <th></th>\n",
       "      <th>ID</th>\n",
       "      <th>ADDRESS</th>\n",
       "      <th>CITY</th>\n",
       "      <th>STATE</th>\n",
       "      <th>ZIP</th>\n",
       "      <th>ListPrice</th>\n",
       "      <th>BEDS</th>\n",
       "      <th>BATHS</th>\n",
       "      <th>LOCATION</th>\n",
       "      <th>SQFT</th>\n",
       "      <th>...</th>\n",
       "      <th>YearBuilt</th>\n",
       "      <th>ParkingSpots</th>\n",
       "      <th>HasGarage</th>\n",
       "      <th>DOM</th>\n",
       "      <th>LastSaleDate</th>\n",
       "      <th>SoldPrev</th>\n",
       "      <th>Realty</th>\n",
       "      <th>LATITUDE</th>\n",
       "      <th>LONGITUDE</th>\n",
       "      <th>ShortSale</th>\n",
       "    </tr>\n",
       "  </thead>\n",
       "  <tbody>\n",
       "    <tr>\n",
       "      <th>0</th>\n",
       "      <td>4416206</td>\n",
       "      <td>1000 Larpenteur Ave W</td>\n",
       "      <td>St. Paul</td>\n",
       "      <td>MN</td>\n",
       "      <td>55113</td>\n",
       "      <td>214000</td>\n",
       "      <td>3</td>\n",
       "      <td>2.00</td>\n",
       "      <td>Como</td>\n",
       "      <td>1954</td>\n",
       "      <td>...</td>\n",
       "      <td>1918</td>\n",
       "      <td>2</td>\n",
       "      <td>Garage</td>\n",
       "      <td>117</td>\n",
       "      <td>2008-10-06</td>\n",
       "      <td>Y</td>\n",
       "      <td>Edina Realty, Inc.</td>\n",
       "      <td>44.991634</td>\n",
       "      <td>-93.142616</td>\n",
       "      <td>N</td>\n",
       "    </tr>\n",
       "    <tr>\n",
       "      <th>1</th>\n",
       "      <td>4423768</td>\n",
       "      <td>1004 Charles Ave</td>\n",
       "      <td>St. Paul</td>\n",
       "      <td>MN</td>\n",
       "      <td>55104</td>\n",
       "      <td>134900</td>\n",
       "      <td>3</td>\n",
       "      <td>1.00</td>\n",
       "      <td>Thomas-Dale (Frogtown)</td>\n",
       "      <td>1028</td>\n",
       "      <td>...</td>\n",
       "      <td>1911</td>\n",
       "      <td>1</td>\n",
       "      <td>Garage</td>\n",
       "      <td>93</td>\n",
       "      <td>2010-11-08</td>\n",
       "      <td>Y</td>\n",
       "      <td>Fish MLS Realty</td>\n",
       "      <td>44.957291</td>\n",
       "      <td>-93.142624</td>\n",
       "      <td>N</td>\n",
       "    </tr>\n",
       "    <tr>\n",
       "      <th>2</th>\n",
       "      <td>4427963</td>\n",
       "      <td>1004 Euclid St</td>\n",
       "      <td>St. Paul</td>\n",
       "      <td>MN</td>\n",
       "      <td>55106</td>\n",
       "      <td>129722</td>\n",
       "      <td>4</td>\n",
       "      <td>1.00</td>\n",
       "      <td>Dayton's Bluff</td>\n",
       "      <td>1420</td>\n",
       "      <td>...</td>\n",
       "      <td>1900</td>\n",
       "      <td>0</td>\n",
       "      <td>No Garage</td>\n",
       "      <td>77</td>\n",
       "      <td>NaT</td>\n",
       "      <td>N</td>\n",
       "      <td>Coldwell Banker Burnet</td>\n",
       "      <td>44.954708</td>\n",
       "      <td>-93.057976</td>\n",
       "      <td>N</td>\n",
       "    </tr>\n",
       "    <tr>\n",
       "      <th>3</th>\n",
       "      <td>4432178</td>\n",
       "      <td>1005 Saint Anthony Ave</td>\n",
       "      <td>St. Paul</td>\n",
       "      <td>MN</td>\n",
       "      <td>55104</td>\n",
       "      <td>134900</td>\n",
       "      <td>2</td>\n",
       "      <td>1.75</td>\n",
       "      <td>Summit-University</td>\n",
       "      <td>904</td>\n",
       "      <td>...</td>\n",
       "      <td>1928</td>\n",
       "      <td>3</td>\n",
       "      <td>Garage</td>\n",
       "      <td>57</td>\n",
       "      <td>NaT</td>\n",
       "      <td>N</td>\n",
       "      <td>Real Estate Masters, Ltd.</td>\n",
       "      <td>44.952404</td>\n",
       "      <td>-93.142693</td>\n",
       "      <td>N</td>\n",
       "    </tr>\n",
       "    <tr>\n",
       "      <th>4</th>\n",
       "      <td>4440070</td>\n",
       "      <td>100X Chatsworth Pl</td>\n",
       "      <td>Shoreview</td>\n",
       "      <td>MN</td>\n",
       "      <td>55126</td>\n",
       "      <td>444900</td>\n",
       "      <td>4</td>\n",
       "      <td>2.50</td>\n",
       "      <td>Shoreview</td>\n",
       "      <td>2014</td>\n",
       "      <td>...</td>\n",
       "      <td>2014</td>\n",
       "      <td>3</td>\n",
       "      <td>Garage</td>\n",
       "      <td>8</td>\n",
       "      <td>NaT</td>\n",
       "      <td>N</td>\n",
       "      <td>Coldwell Banker Burnet</td>\n",
       "      <td>44.944391</td>\n",
       "      <td>-93.141348</td>\n",
       "      <td>N</td>\n",
       "    </tr>\n",
       "  </tbody>\n",
       "</table>\n",
       "<p>5 rows × 21 columns</p>\n",
       "</div>"
      ],
      "text/plain": [
       "        ID                 ADDRESS       CITY STATE    ZIP  ListPrice  BEDS  \\\n",
       "0  4416206   1000 Larpenteur Ave W   St. Paul    MN  55113     214000     3   \n",
       "1  4423768        1004 Charles Ave   St. Paul    MN  55104     134900     3   \n",
       "2  4427963          1004 Euclid St   St. Paul    MN  55106     129722     4   \n",
       "3  4432178  1005 Saint Anthony Ave   St. Paul    MN  55104     134900     2   \n",
       "4  4440070      100X Chatsworth Pl  Shoreview    MN  55126     444900     4   \n",
       "\n",
       "   BATHS                LOCATION  SQFT    ...      YearBuilt  ParkingSpots  \\\n",
       "0   2.00                    Como  1954    ...           1918             2   \n",
       "1   1.00  Thomas-Dale (Frogtown)  1028    ...           1911             1   \n",
       "2   1.00          Dayton's Bluff  1420    ...           1900             0   \n",
       "3   1.75       Summit-University   904    ...           1928             3   \n",
       "4   2.50               Shoreview  2014    ...           2014             3   \n",
       "\n",
       "   HasGarage  DOM  LastSaleDate SoldPrev                     Realty  \\\n",
       "0     Garage  117    2008-10-06        Y         Edina Realty, Inc.   \n",
       "1     Garage   93    2010-11-08        Y            Fish MLS Realty   \n",
       "2  No Garage   77           NaT        N     Coldwell Banker Burnet   \n",
       "3     Garage   57           NaT        N  Real Estate Masters, Ltd.   \n",
       "4     Garage    8           NaT        N     Coldwell Banker Burnet   \n",
       "\n",
       "    LATITUDE  LONGITUDE  ShortSale  \n",
       "0  44.991634 -93.142616          N  \n",
       "1  44.957291 -93.142624          N  \n",
       "2  44.954708 -93.057976          N  \n",
       "3  44.952404 -93.142693          N  \n",
       "4  44.944391 -93.141348          N  \n",
       "\n",
       "[5 rows x 21 columns]"
      ]
     },
     "execution_count": 3,
     "metadata": {},
     "output_type": "execute_result"
    }
   ],
   "source": [
    "df.head()"
   ]
  },
  {
   "cell_type": "code",
   "execution_count": 4,
   "metadata": {
    "collapsed": false
   },
   "outputs": [
    {
     "name": "stdout",
     "output_type": "stream",
     "text": [
      "<class 'pandas.core.frame.DataFrame'>\n",
      "RangeIndex: 1111 entries, 0 to 1110\n",
      "Data columns (total 21 columns):\n",
      "ID              1111 non-null object\n",
      "ADDRESS         1111 non-null object\n",
      "CITY            1111 non-null object\n",
      "STATE           1111 non-null object\n",
      "ZIP             1111 non-null int64\n",
      "ListPrice       1111 non-null int64\n",
      "BEDS            1111 non-null int64\n",
      "BATHS           1110 non-null float64\n",
      "LOCATION        1105 non-null object\n",
      "SQFT            1111 non-null int64\n",
      "LotSize         1047 non-null float64\n",
      "YearBuilt       1111 non-null int64\n",
      "ParkingSpots    1111 non-null int64\n",
      "HasGarage       1111 non-null object\n",
      "DOM             1111 non-null int64\n",
      "LastSaleDate    378 non-null datetime64[ns]\n",
      "SoldPrev        1111 non-null object\n",
      "Realty          1111 non-null object\n",
      "LATITUDE        1105 non-null float64\n",
      "LONGITUDE       1105 non-null float64\n",
      "ShortSale       1111 non-null object\n",
      "dtypes: datetime64[ns](1), float64(4), int64(7), object(9)\n",
      "memory usage: 182.3+ KB\n"
     ]
    }
   ],
   "source": [
    "df.info()\n",
    "#get a quick sense of the data. We got some missing values here.\n",
    "# we have 1111 house listings. "
   ]
  },
  {
   "cell_type": "markdown",
   "metadata": {},
   "source": [
    "# Who should we partner with?\n",
    "You are home developer looking to partner with the top real estate companies to acquire and then sell a large volume of properties in the Twin Cities area (the more the better). You do not have the resources to manage too many real estate partners and a strict timeline to negotiate the deals.\n",
    "\n",
    "What realty companies would you pick as your partners? Why would you make that choice? Demonstrate this through analysis, visual display of your results, and description of your methodology of selection.\n",
    "\n",
    "##### Gaol: Find companies that have historically sell the most houses. \n",
    "##### also look at trend. Which companeis have selling more houses over time?\n",
    "\n",
    "keep in mind, I don't know how many realty companies we want to partner with. "
   ]
  },
  {
   "cell_type": "code",
   "execution_count": 11,
   "metadata": {
    "collapsed": false,
    "scrolled": true
   },
   "outputs": [
    {
     "data": {
      "text/plain": [
       "RE/MAX Results                    188\n",
       "Coldwell Banker Burnet            161\n",
       "Edina Realty, Inc.                155\n",
       "RE/MAX Specialists                 27\n",
       "RE/MAX Advantage Plus              27\n",
       "Keller Williams Premier Realty     27\n",
       "Keller Williams Integrity RE       24\n",
       "Keller Williams Integrity          22\n",
       "The Realty House                   14\n",
       "Counselor Realty, Inc              14\n",
       "Name: Realty, dtype: int64"
      ]
     },
     "execution_count": 11,
     "metadata": {},
     "output_type": "execute_result"
    }
   ],
   "source": [
    "df.Realty.value_counts().head(10)"
   ]
  },
  {
   "cell_type": "markdown",
   "metadata": {},
   "source": [
    "Seems like the market is dominated by big name companies. Also notice that some companies have multiple alternative names like RE/MAX specialists and RE/MAX Advantage Plus."
   ]
  },
  {
   "cell_type": "code",
   "execution_count": 91,
   "metadata": {
    "collapsed": false,
    "scrolled": false
   },
   "outputs": [
    {
     "data": {
      "text/plain": [
       "<matplotlib.axes._subplots.AxesSubplot at 0x11c1d3590>"
      ]
     },
     "execution_count": 91,
     "metadata": {},
     "output_type": "execute_result"
    },
    {
     "data": {
      "image/png": "[encoded data removed]",
      "text/plain": [
       "<matplotlib.figure.Figure at 0x11ba560d0>"
      ]
     },
     "metadata": {
      "image/png": {
       "height": 588,
       "width": 790
      }
     },
     "output_type": "display_data"
    }
   ],
   "source": [
    "plt.figure(figsize=(10,10))\n",
    "df.Realty.value_counts().head(10).plot(kind='barh')"
   ]
  },
  {
   "cell_type": "code",
   "execution_count": 63,
   "metadata": {
    "collapsed": false
   },
   "outputs": [],
   "source": [
    "values = (df.Realty.value_counts()/1111*100).head(10).tolist() \n"
   ]
  },
  {
   "cell_type": "code",
   "execution_count": 66,
   "metadata": {
    "collapsed": false
   },
   "outputs": [
    {
     "data": {
      "text/plain": [
       "[16.92, 14.49, 13.95, 2.43, 2.43, 2.43, 2.16, 1.98, 1.26, 1.26]"
      ]
     },
     "execution_count": 66,
     "metadata": {},
     "output_type": "execute_result"
    }
   ],
   "source": [
    "new_values = []\n",
    "for v in values:\n",
    "    new_values.append(round(v, 2))\n",
    "new_values"
   ]
  },
  {
   "cell_type": "code",
   "execution_count": 88,
   "metadata": {
    "collapsed": false
   },
   "outputs": [
    {
     "data": {
      "text/plain": [
       "<matplotlib.axes._subplots.AxesSubplot at 0x11bf509d0>"
      ]
     },
     "execution_count": 88,
     "metadata": {},
     "output_type": "execute_result"
    },
    {
     "data": {
      "image/png": "[encoded data removed]",
      "text/plain": [
       "<matplotlib.figure.Figure at 0x11ad364d0>"
      ]
     },
     "metadata": {
      "image/png": {
       "height": 588,
       "width": 720
      }
     },
     "output_type": "display_data"
    }
   ],
   "source": [
    "#let's look at pertentage\n",
    "plt.figure(figsize=(10,10))\n",
    "(df.Realty.value_counts()/1111*100).head(10).plot(kind='pie',title='top 10 best selling')\n",
    "#plt.legend(new_values,loc=3)\n"
   ]
  },
  {
   "cell_type": "code",
   "execution_count": 48,
   "metadata": {
    "collapsed": false
   },
   "outputs": [
    {
     "data": {
      "text/plain": [
       "[u'RE/MAX Results',\n",
       " u'Coldwell Banker Burnet',\n",
       " u'Edina Realty, Inc.',\n",
       " u'RE/MAX Specialists',\n",
       " u'RE/MAX Advantage Plus',\n",
       " u'Keller Williams Premier Realty',\n",
       " u'Keller Williams Integrity RE',\n",
       " u'Keller Williams Integrity',\n",
       " u'The Realty House',\n",
       " u'Counselor Realty, Inc']"
      ]
     },
     "execution_count": 48,
     "metadata": {},
     "output_type": "execute_result"
    }
   ],
   "source": [
    "(df.Realty.value_counts()/1111*100).round().head(10).index.tolist()"
   ]
  },
  {
   "cell_type": "code",
   "execution_count": 98,
   "metadata": {
    "collapsed": false
   },
   "outputs": [
    {
     "data": {
      "text/plain": [
       "26"
      ]
     },
     "execution_count": 98,
     "metadata": {},
     "output_type": "execute_result"
    }
   ],
   "source": [
    "df.Realty.value_counts()[df.Realty.value_counts()>5].count()\n",
    "\n"
   ]
  },
  {
   "cell_type": "markdown",
   "metadata": {},
   "source": [
    "Out of the 211 companies, only 26 have sold more than 5 houses. Here are some possible reasons:\n",
    "1. Realty names were documented differented. That means if a company has 5 alternative names, each of them will be counted as an indivisual company. \n",
    "2. The market was so dominated by big names companies that smaller realtors were having a hard time to sell more houses."
   ]
  },
  {
   "cell_type": "code",
   "execution_count": 102,
   "metadata": {
    "collapsed": false
   },
   "outputs": [
    {
     "data": {
      "text/plain": [
       "<matplotlib.axes._subplots.AxesSubplot at 0x11390ef90>"
      ]
     },
     "execution_count": 102,
     "metadata": {},
     "output_type": "execute_result"
    },
    {
     "data": {
      "image/png": "[encoded data removed]",
      "text/plain": [
       "<matplotlib.figure.Figure at 0x11390efd0>"
      ]
     },
     "metadata": {
      "image/png": {
       "height": 649,
       "width": 476
      }
     },
     "output_type": "display_data"
    }
   ],
   "source": [
    "plt.figure(figsize=(7,7))\n",
    "df.Realty.value_counts()[df.Realty.value_counts()>5].plot(kind='bar')\n",
    "# noticing the graph is heavily skewed to the right"
   ]
  },
  {
   "cell_type": "markdown",
   "metadata": {},
   "source": [
    "Based on the graph above, it's obvious that there are 3 top realty companies that have historically sold the highest volumn of houses. If we can get access to the past sales data for those companies, we would be able to see the trends on which companies are going to be the leading realtors in the future. \n",
    "\n",
    "[16.92, 14.49, 13.95, 2.43, 2.43, 2.43, 2.16, 1.98, 1.26, 1.26] are the percentages of their listed houses."
   ]
  },
  {
   "cell_type": "markdown",
   "metadata": {},
   "source": [
    "# How much should we sell the house for?\n",
    "All things being equal what would you predict as the listing price for a 2111 square foot house if that was the only information you had on a house in this area? How did you arrive at that estimate? Please explain."
   ]
  },
  {
   "cell_type": "code",
   "execution_count": 103,
   "metadata": {
    "collapsed": false
   },
   "outputs": [
    {
     "data": {
      "text/html": [
       "<div>\n",
       "<table border=\"1\" class=\"dataframe\">\n",
       "  <thead>\n",
       "    <tr style=\"text-align: right;\">\n",
       "      <th></th>\n",
       "      <th>ID</th>\n",
       "      <th>ADDRESS</th>\n",
       "      <th>CITY</th>\n",
       "      <th>STATE</th>\n",
       "      <th>ZIP</th>\n",
       "      <th>ListPrice</th>\n",
       "      <th>BEDS</th>\n",
       "      <th>BATHS</th>\n",
       "      <th>LOCATION</th>\n",
       "      <th>SQFT</th>\n",
       "      <th>...</th>\n",
       "      <th>YearBuilt</th>\n",
       "      <th>ParkingSpots</th>\n",
       "      <th>HasGarage</th>\n",
       "      <th>DOM</th>\n",
       "      <th>LastSaleDate</th>\n",
       "      <th>SoldPrev</th>\n",
       "      <th>Realty</th>\n",
       "      <th>LATITUDE</th>\n",
       "      <th>LONGITUDE</th>\n",
       "      <th>ShortSale</th>\n",
       "    </tr>\n",
       "  </thead>\n",
       "  <tbody>\n",
       "    <tr>\n",
       "      <th>0</th>\n",
       "      <td>4416206</td>\n",
       "      <td>1000 Larpenteur Ave W</td>\n",
       "      <td>St. Paul</td>\n",
       "      <td>MN</td>\n",
       "      <td>55113</td>\n",
       "      <td>214000</td>\n",
       "      <td>3</td>\n",
       "      <td>2.0</td>\n",
       "      <td>Como</td>\n",
       "      <td>1954</td>\n",
       "      <td>...</td>\n",
       "      <td>1918</td>\n",
       "      <td>2</td>\n",
       "      <td>Garage</td>\n",
       "      <td>117</td>\n",
       "      <td>2008-10-06</td>\n",
       "      <td>Y</td>\n",
       "      <td>Edina Realty, Inc.</td>\n",
       "      <td>44.991634</td>\n",
       "      <td>-93.142616</td>\n",
       "      <td>N</td>\n",
       "    </tr>\n",
       "    <tr>\n",
       "      <th>1</th>\n",
       "      <td>4423768</td>\n",
       "      <td>1004 Charles Ave</td>\n",
       "      <td>St. Paul</td>\n",
       "      <td>MN</td>\n",
       "      <td>55104</td>\n",
       "      <td>134900</td>\n",
       "      <td>3</td>\n",
       "      <td>1.0</td>\n",
       "      <td>Thomas-Dale (Frogtown)</td>\n",
       "      <td>1028</td>\n",
       "      <td>...</td>\n",
       "      <td>1911</td>\n",
       "      <td>1</td>\n",
       "      <td>Garage</td>\n",
       "      <td>93</td>\n",
       "      <td>2010-11-08</td>\n",
       "      <td>Y</td>\n",
       "      <td>Fish MLS Realty</td>\n",
       "      <td>44.957291</td>\n",
       "      <td>-93.142624</td>\n",
       "      <td>N</td>\n",
       "    </tr>\n",
       "  </tbody>\n",
       "</table>\n",
       "<p>2 rows × 21 columns</p>\n",
       "</div>"
      ],
      "text/plain": [
       "        ID                ADDRESS      CITY STATE    ZIP  ListPrice  BEDS  \\\n",
       "0  4416206  1000 Larpenteur Ave W  St. Paul    MN  55113     214000     3   \n",
       "1  4423768       1004 Charles Ave  St. Paul    MN  55104     134900     3   \n",
       "\n",
       "   BATHS                LOCATION  SQFT    ...      YearBuilt  ParkingSpots  \\\n",
       "0    2.0                    Como  1954    ...           1918             2   \n",
       "1    1.0  Thomas-Dale (Frogtown)  1028    ...           1911             1   \n",
       "\n",
       "   HasGarage  DOM  LastSaleDate SoldPrev              Realty   LATITUDE  \\\n",
       "0     Garage  117    2008-10-06        Y  Edina Realty, Inc.  44.991634   \n",
       "1     Garage   93    2010-11-08        Y     Fish MLS Realty  44.957291   \n",
       "\n",
       "   LONGITUDE  ShortSale  \n",
       "0 -93.142616          N  \n",
       "1 -93.142624          N  \n",
       "\n",
       "[2 rows x 21 columns]"
      ]
     },
     "execution_count": 103,
     "metadata": {},
     "output_type": "execute_result"
    }
   ],
   "source": [
    "df.head(2)"
   ]
  },
  {
   "cell_type": "code",
   "execution_count": 107,
   "metadata": {
    "collapsed": false,
    "scrolled": true
   },
   "outputs": [
    {
     "data": {
      "text/html": [
       "<div>\n",
       "<table border=\"1\" class=\"dataframe\">\n",
       "  <thead>\n",
       "    <tr style=\"text-align: right;\">\n",
       "      <th></th>\n",
       "      <th>ID</th>\n",
       "      <th>ADDRESS</th>\n",
       "      <th>CITY</th>\n",
       "      <th>STATE</th>\n",
       "      <th>ZIP</th>\n",
       "      <th>ListPrice</th>\n",
       "      <th>BEDS</th>\n",
       "      <th>BATHS</th>\n",
       "      <th>LOCATION</th>\n",
       "      <th>SQFT</th>\n",
       "      <th>...</th>\n",
       "      <th>YearBuilt</th>\n",
       "      <th>ParkingSpots</th>\n",
       "      <th>HasGarage</th>\n",
       "      <th>DOM</th>\n",
       "      <th>LastSaleDate</th>\n",
       "      <th>SoldPrev</th>\n",
       "      <th>Realty</th>\n",
       "      <th>LATITUDE</th>\n",
       "      <th>LONGITUDE</th>\n",
       "      <th>ShortSale</th>\n",
       "    </tr>\n",
       "  </thead>\n",
       "  <tbody>\n",
       "  </tbody>\n",
       "</table>\n",
       "<p>0 rows × 21 columns</p>\n",
       "</div>"
      ],
      "text/plain": [
       "Empty DataFrame\n",
       "Columns: [ID, ADDRESS, CITY, STATE, ZIP, ListPrice, BEDS, BATHS, LOCATION, SQFT, LotSize, YearBuilt, ParkingSpots, HasGarage, DOM, LastSaleDate, SoldPrev, Realty, LATITUDE, LONGITUDE, ShortSale]\n",
       "Index: []\n",
       "\n",
       "[0 rows x 21 columns]"
      ]
     },
     "execution_count": 107,
     "metadata": {},
     "output_type": "execute_result"
    }
   ],
   "source": [
    "df[df.SQFT == 2111]\n",
    "# we don't have a house with 2111 SQFT on sale atm\n",
    "#next we can look at houses around the similar range of SQFT"
   ]
  },
  {
   "cell_type": "code",
   "execution_count": 131,
   "metadata": {
    "collapsed": false,
    "scrolled": false
   },
   "outputs": [
    {
     "data": {
      "text/plain": [
       "<matplotlib.axes._subplots.AxesSubplot at 0x14ec475d0>"
      ]
     },
     "execution_count": 131,
     "metadata": {},
     "output_type": "execute_result"
    },
    {
     "data": {
      "image/png": "[encoded data removed]",
      "text/plain": [
       "<matplotlib.figure.Figure at 0x14ebb0890>"
      ]
     },
     "metadata": {
      "image/png": {
       "height": 997,
       "width": 1112
      }
     },
     "output_type": "display_data"
    }
   ],
   "source": [
    "#selecting a range of SQFT\n",
    "plt.figure(figsize=(17,17))\n",
    "df.SQFT.sort_values().plot(kind='bar', color='k')\n",
    "#y axis is the SQFT. x axis is the index number"
   ]
  },
  {
   "cell_type": "markdown",
   "metadata": {},
   "source": [
    "The graph above seems intimidating, but it shows a trajectory of housing size sorted from the lowest value to the highest value.Interesting to notice how the size increased gradually, then had a big spike after 2000 SQFT. "
   ]
  },
  {
   "cell_type": "code",
   "execution_count": 143,
   "metadata": {
    "collapsed": false,
    "scrolled": true
   },
   "outputs": [
    {
     "name": "stderr",
     "output_type": "stream",
     "text": [
      "/anaconda/envs/dsi/lib/python2.7/site-packages/ipykernel/__main__.py:3: FutureWarning: sort(columns=....) is deprecated, use sort_values(by=.....)\n",
      "  app.launch_new_instance()\n"
     ]
    },
    {
     "data": {
      "text/html": [
       "<div>\n",
       "<table border=\"1\" class=\"dataframe\">\n",
       "  <thead>\n",
       "    <tr style=\"text-align: right;\">\n",
       "      <th></th>\n",
       "      <th>ListPrice</th>\n",
       "      <th>SQFT</th>\n",
       "    </tr>\n",
       "  </thead>\n",
       "  <tbody>\n",
       "    <tr>\n",
       "      <th>1024</th>\n",
       "      <td>219900</td>\n",
       "      <td>1612</td>\n",
       "    </tr>\n",
       "    <tr>\n",
       "      <th>575</th>\n",
       "      <td>234900</td>\n",
       "      <td>1612</td>\n",
       "    </tr>\n",
       "    <tr>\n",
       "      <th>625</th>\n",
       "      <td>48900</td>\n",
       "      <td>1618</td>\n",
       "    </tr>\n",
       "    <tr>\n",
       "      <th>681</th>\n",
       "      <td>187500</td>\n",
       "      <td>1620</td>\n",
       "    </tr>\n",
       "    <tr>\n",
       "      <th>713</th>\n",
       "      <td>189900</td>\n",
       "      <td>1620</td>\n",
       "    </tr>\n",
       "    <tr>\n",
       "      <th>708</th>\n",
       "      <td>237000</td>\n",
       "      <td>1621</td>\n",
       "    </tr>\n",
       "    <tr>\n",
       "      <th>310</th>\n",
       "      <td>174900</td>\n",
       "      <td>1623</td>\n",
       "    </tr>\n",
       "    <tr>\n",
       "      <th>913</th>\n",
       "      <td>174900</td>\n",
       "      <td>1623</td>\n",
       "    </tr>\n",
       "    <tr>\n",
       "      <th>1095</th>\n",
       "      <td>195000</td>\n",
       "      <td>1624</td>\n",
       "    </tr>\n",
       "    <tr>\n",
       "      <th>367</th>\n",
       "      <td>149900</td>\n",
       "      <td>1624</td>\n",
       "    </tr>\n",
       "    <tr>\n",
       "      <th>719</th>\n",
       "      <td>359900</td>\n",
       "      <td>1624</td>\n",
       "    </tr>\n",
       "    <tr>\n",
       "      <th>731</th>\n",
       "      <td>359900</td>\n",
       "      <td>1624</td>\n",
       "    </tr>\n",
       "    <tr>\n",
       "      <th>171</th>\n",
       "      <td>224900</td>\n",
       "      <td>1625</td>\n",
       "    </tr>\n",
       "    <tr>\n",
       "      <th>878</th>\n",
       "      <td>254900</td>\n",
       "      <td>1627</td>\n",
       "    </tr>\n",
       "    <tr>\n",
       "      <th>272</th>\n",
       "      <td>145000</td>\n",
       "      <td>1628</td>\n",
       "    </tr>\n",
       "    <tr>\n",
       "      <th>131</th>\n",
       "      <td>179900</td>\n",
       "      <td>1628</td>\n",
       "    </tr>\n",
       "    <tr>\n",
       "      <th>492</th>\n",
       "      <td>109900</td>\n",
       "      <td>1632</td>\n",
       "    </tr>\n",
       "    <tr>\n",
       "      <th>218</th>\n",
       "      <td>289900</td>\n",
       "      <td>1635</td>\n",
       "    </tr>\n",
       "    <tr>\n",
       "      <th>801</th>\n",
       "      <td>147900</td>\n",
       "      <td>1638</td>\n",
       "    </tr>\n",
       "    <tr>\n",
       "      <th>777</th>\n",
       "      <td>174900</td>\n",
       "      <td>1642</td>\n",
       "    </tr>\n",
       "    <tr>\n",
       "      <th>236</th>\n",
       "      <td>299900</td>\n",
       "      <td>1644</td>\n",
       "    </tr>\n",
       "    <tr>\n",
       "      <th>15</th>\n",
       "      <td>72000</td>\n",
       "      <td>1644</td>\n",
       "    </tr>\n",
       "    <tr>\n",
       "      <th>276</th>\n",
       "      <td>128000</td>\n",
       "      <td>1645</td>\n",
       "    </tr>\n",
       "    <tr>\n",
       "      <th>1044</th>\n",
       "      <td>40000</td>\n",
       "      <td>1645</td>\n",
       "    </tr>\n",
       "    <tr>\n",
       "      <th>321</th>\n",
       "      <td>149900</td>\n",
       "      <td>1647</td>\n",
       "    </tr>\n",
       "    <tr>\n",
       "      <th>123</th>\n",
       "      <td>179900</td>\n",
       "      <td>1647</td>\n",
       "    </tr>\n",
       "    <tr>\n",
       "      <th>1105</th>\n",
       "      <td>134999</td>\n",
       "      <td>1650</td>\n",
       "    </tr>\n",
       "    <tr>\n",
       "      <th>1107</th>\n",
       "      <td>109000</td>\n",
       "      <td>1650</td>\n",
       "    </tr>\n",
       "    <tr>\n",
       "      <th>255</th>\n",
       "      <td>140000</td>\n",
       "      <td>1650</td>\n",
       "    </tr>\n",
       "    <tr>\n",
       "      <th>203</th>\n",
       "      <td>142800</td>\n",
       "      <td>1650</td>\n",
       "    </tr>\n",
       "    <tr>\n",
       "      <th>...</th>\n",
       "      <td>...</td>\n",
       "      <td>...</td>\n",
       "    </tr>\n",
       "    <tr>\n",
       "      <th>558</th>\n",
       "      <td>215900</td>\n",
       "      <td>2384</td>\n",
       "    </tr>\n",
       "    <tr>\n",
       "      <th>785</th>\n",
       "      <td>239900</td>\n",
       "      <td>2390</td>\n",
       "    </tr>\n",
       "    <tr>\n",
       "      <th>37</th>\n",
       "      <td>499999</td>\n",
       "      <td>2402</td>\n",
       "    </tr>\n",
       "    <tr>\n",
       "      <th>784</th>\n",
       "      <td>690000</td>\n",
       "      <td>2404</td>\n",
       "    </tr>\n",
       "    <tr>\n",
       "      <th>779</th>\n",
       "      <td>595000</td>\n",
       "      <td>2416</td>\n",
       "    </tr>\n",
       "    <tr>\n",
       "      <th>335</th>\n",
       "      <td>364500</td>\n",
       "      <td>2432</td>\n",
       "    </tr>\n",
       "    <tr>\n",
       "      <th>641</th>\n",
       "      <td>249900</td>\n",
       "      <td>2456</td>\n",
       "    </tr>\n",
       "    <tr>\n",
       "      <th>1029</th>\n",
       "      <td>299900</td>\n",
       "      <td>2460</td>\n",
       "    </tr>\n",
       "    <tr>\n",
       "      <th>298</th>\n",
       "      <td>429900</td>\n",
       "      <td>2460</td>\n",
       "    </tr>\n",
       "    <tr>\n",
       "      <th>421</th>\n",
       "      <td>58800</td>\n",
       "      <td>2460</td>\n",
       "    </tr>\n",
       "    <tr>\n",
       "      <th>265</th>\n",
       "      <td>384900</td>\n",
       "      <td>2468</td>\n",
       "    </tr>\n",
       "    <tr>\n",
       "      <th>72</th>\n",
       "      <td>329900</td>\n",
       "      <td>2478</td>\n",
       "    </tr>\n",
       "    <tr>\n",
       "      <th>451</th>\n",
       "      <td>39959</td>\n",
       "      <td>2480</td>\n",
       "    </tr>\n",
       "    <tr>\n",
       "      <th>292</th>\n",
       "      <td>309900</td>\n",
       "      <td>2480</td>\n",
       "    </tr>\n",
       "    <tr>\n",
       "      <th>725</th>\n",
       "      <td>299900</td>\n",
       "      <td>2485</td>\n",
       "    </tr>\n",
       "    <tr>\n",
       "      <th>953</th>\n",
       "      <td>334900</td>\n",
       "      <td>2496</td>\n",
       "    </tr>\n",
       "    <tr>\n",
       "      <th>1110</th>\n",
       "      <td>483900</td>\n",
       "      <td>2500</td>\n",
       "    </tr>\n",
       "    <tr>\n",
       "      <th>941</th>\n",
       "      <td>499000</td>\n",
       "      <td>2501</td>\n",
       "    </tr>\n",
       "    <tr>\n",
       "      <th>926</th>\n",
       "      <td>289900</td>\n",
       "      <td>2512</td>\n",
       "    </tr>\n",
       "    <tr>\n",
       "      <th>284</th>\n",
       "      <td>449900</td>\n",
       "      <td>2514</td>\n",
       "    </tr>\n",
       "    <tr>\n",
       "      <th>224</th>\n",
       "      <td>204900</td>\n",
       "      <td>2524</td>\n",
       "    </tr>\n",
       "    <tr>\n",
       "      <th>1077</th>\n",
       "      <td>339900</td>\n",
       "      <td>2534</td>\n",
       "    </tr>\n",
       "    <tr>\n",
       "      <th>856</th>\n",
       "      <td>499900</td>\n",
       "      <td>2552</td>\n",
       "    </tr>\n",
       "    <tr>\n",
       "      <th>466</th>\n",
       "      <td>895000</td>\n",
       "      <td>2562</td>\n",
       "    </tr>\n",
       "    <tr>\n",
       "      <th>570</th>\n",
       "      <td>279900</td>\n",
       "      <td>2568</td>\n",
       "    </tr>\n",
       "    <tr>\n",
       "      <th>362</th>\n",
       "      <td>385000</td>\n",
       "      <td>2568</td>\n",
       "    </tr>\n",
       "    <tr>\n",
       "      <th>331</th>\n",
       "      <td>556877</td>\n",
       "      <td>2573</td>\n",
       "    </tr>\n",
       "    <tr>\n",
       "      <th>569</th>\n",
       "      <td>449000</td>\n",
       "      <td>2588</td>\n",
       "    </tr>\n",
       "    <tr>\n",
       "      <th>805</th>\n",
       "      <td>399988</td>\n",
       "      <td>2592</td>\n",
       "    </tr>\n",
       "    <tr>\n",
       "      <th>156</th>\n",
       "      <td>263525</td>\n",
       "      <td>2598</td>\n",
       "    </tr>\n",
       "  </tbody>\n",
       "</table>\n",
       "<p>357 rows × 2 columns</p>\n",
       "</div>"
      ],
      "text/plain": [
       "      ListPrice  SQFT\n",
       "1024     219900  1612\n",
       "575      234900  1612\n",
       "625       48900  1618\n",
       "681      187500  1620\n",
       "713      189900  1620\n",
       "708      237000  1621\n",
       "310      174900  1623\n",
       "913      174900  1623\n",
       "1095     195000  1624\n",
       "367      149900  1624\n",
       "719      359900  1624\n",
       "731      359900  1624\n",
       "171      224900  1625\n",
       "878      254900  1627\n",
       "272      145000  1628\n",
       "131      179900  1628\n",
       "492      109900  1632\n",
       "218      289900  1635\n",
       "801      147900  1638\n",
       "777      174900  1642\n",
       "236      299900  1644\n",
       "15        72000  1644\n",
       "276      128000  1645\n",
       "1044      40000  1645\n",
       "321      149900  1647\n",
       "123      179900  1647\n",
       "1105     134999  1650\n",
       "1107     109000  1650\n",
       "255      140000  1650\n",
       "203      142800  1650\n",
       "...         ...   ...\n",
       "558      215900  2384\n",
       "785      239900  2390\n",
       "37       499999  2402\n",
       "784      690000  2404\n",
       "779      595000  2416\n",
       "335      364500  2432\n",
       "641      249900  2456\n",
       "1029     299900  2460\n",
       "298      429900  2460\n",
       "421       58800  2460\n",
       "265      384900  2468\n",
       "72       329900  2478\n",
       "451       39959  2480\n",
       "292      309900  2480\n",
       "725      299900  2485\n",
       "953      334900  2496\n",
       "1110     483900  2500\n",
       "941      499000  2501\n",
       "926      289900  2512\n",
       "284      449900  2514\n",
       "224      204900  2524\n",
       "1077     339900  2534\n",
       "856      499900  2552\n",
       "466      895000  2562\n",
       "570      279900  2568\n",
       "362      385000  2568\n",
       "331      556877  2573\n",
       "569      449000  2588\n",
       "805      399988  2592\n",
       "156      263525  2598\n",
       "\n",
       "[357 rows x 2 columns]"
      ]
     },
     "execution_count": 143,
     "metadata": {},
     "output_type": "execute_result"
    }
   ],
   "source": [
    "#To simplify the question, I started by drawing a rough range.\n",
    "#looking for the price range that's +/- 500 of 2111\n",
    "mask = (df.SQFT >1611) & (df.SQFT < 2611) \n",
    "price_sqft = df[mask][['ListPrice','SQFT']].sort('SQFT')\n",
    "price_sqft"
   ]
  },
  {
   "cell_type": "markdown",
   "metadata": {
    "collapsed": false,
    "scrolled": true
   },
   "source": [
    "#### Next, I'm going to use linear regression to predict price given sqft\n",
    "first look for outliers\n"
   ]
  },
  {
   "cell_type": "code",
   "execution_count": 148,
   "metadata": {
    "collapsed": false,
    "scrolled": false
   },
   "outputs": [
    {
     "data": {
      "text/plain": [
       "<matplotlib.axes._subplots.AxesSubplot at 0x124106750>"
      ]
     },
     "execution_count": 148,
     "metadata": {},
     "output_type": "execute_result"
    },
    {
     "data": {
      "image/png": "[encoded data removed]",
      "text/plain": [
       "<matplotlib.figure.Figure at 0x124106dd0>"
      ]
     },
     "metadata": {
      "image/png": {
       "height": 438,
       "width": 475
      }
     },
     "output_type": "display_data"
    }
   ],
   "source": [
    "plt.figure(figsize=(7,7))\n",
    "sns.boxplot(df.ListPrice)\n",
    "#drop rows with price listed over 1000000"
   ]
  },
  {
   "cell_type": "code",
   "execution_count": 152,
   "metadata": {
    "collapsed": false
   },
   "outputs": [],
   "source": [
    "df2 = df[df.ListPrice <1000000]"
   ]
  },
  {
   "cell_type": "code",
   "execution_count": 161,
   "metadata": {
    "collapsed": false
   },
   "outputs": [
    {
     "data": {
      "text/plain": [
       "<matplotlib.collections.PathCollection at 0x1657b5210>"
      ]
     },
     "execution_count": 161,
     "metadata": {},
     "output_type": "execute_result"
    },
    {
     "data": {
      "image/png": "[encoded data removed]",
      "text/plain": [
       "<matplotlib.figure.Figure at 0x1653b6990>"
      ]
     },
     "metadata": {
      "image/png": {
       "height": 426,
       "width": 510
      }
     },
     "output_type": "display_data"
    }
   ],
   "source": [
    "\n",
    "plt.figure(figsize=(7,7))\n",
    "ax.grid(which='major', alpha=0.2)\n",
    "ax.grid(which='minor', alpha=0.2)\n",
    "plt.scatter(df2.SQFT, df2.ListPrice)\n",
    "\n",
    "# we can see that there's a very wide range of price given the ~2111 SQFT"
   ]
  },
  {
   "cell_type": "markdown",
   "metadata": {},
   "source": [
    "### Using linear regression to predict list price, given SQFT"
   ]
  },
  {
   "cell_type": "code",
   "execution_count": 176,
   "metadata": {
    "collapsed": false
   },
   "outputs": [
    {
     "data": {
      "text/plain": [
       "Intercept   -99819.053966\n",
       "SQFT           190.794419\n",
       "dtype: float64"
      ]
     },
     "execution_count": 176,
     "metadata": {},
     "output_type": "execute_result"
    }
   ],
   "source": [
    "import statsmodels.formula.api as smf\n",
    "\n",
    "# create a fitted model in one line\n",
    "lm = smf.ols(formula='ListPrice ~ SQFT', data=df2).fit()\n",
    "\n",
    "# print the coefficients\n",
    "lm.params"
   ]
  },
  {
   "cell_type": "markdown",
   "metadata": {},
   "source": [
    "- a sqaure feet increased is associated with 190.794419 USD increase in list price\n"
   ]
  },
  {
   "cell_type": "code",
   "execution_count": 177,
   "metadata": {
    "collapsed": false
   },
   "outputs": [
    {
     "data": {
      "text/html": [
       "<div>\n",
       "<table border=\"1\" class=\"dataframe\">\n",
       "  <thead>\n",
       "    <tr style=\"text-align: right;\">\n",
       "      <th></th>\n",
       "      <th>SQFT</th>\n",
       "    </tr>\n",
       "  </thead>\n",
       "  <tbody>\n",
       "    <tr>\n",
       "      <th>0</th>\n",
       "      <td>2111</td>\n",
       "    </tr>\n",
       "  </tbody>\n",
       "</table>\n",
       "</div>"
      ],
      "text/plain": [
       "   SQFT\n",
       "0  2111"
      ]
     },
     "execution_count": 177,
     "metadata": {},
     "output_type": "execute_result"
    }
   ],
   "source": [
    "#predicting listprice with 2111 square feet\n",
    "X_new = pd.DataFrame({'SQFT': [2111]})\n",
    "X_new.head()"
   ]
  },
  {
   "cell_type": "code",
   "execution_count": 178,
   "metadata": {
    "collapsed": false
   },
   "outputs": [
    {
     "data": {
      "text/plain": [
       "array([ 302947.96428449])"
      ]
     },
     "execution_count": 178,
     "metadata": {},
     "output_type": "execute_result"
    }
   ],
   "source": [
    "lm.predict(X_new)"
   ]
  },
  {
   "cell_type": "code",
   "execution_count": 189,
   "metadata": {
    "collapsed": false
   },
   "outputs": [
    {
     "data": {
      "text/html": [
       "<div>\n",
       "<table border=\"1\" class=\"dataframe\">\n",
       "  <thead>\n",
       "    <tr style=\"text-align: right;\">\n",
       "      <th></th>\n",
       "      <th>0</th>\n",
       "      <th>1</th>\n",
       "    </tr>\n",
       "  </thead>\n",
       "  <tbody>\n",
       "    <tr>\n",
       "      <th>Intercept</th>\n",
       "      <td>-116124.759068</td>\n",
       "      <td>-83513.348865</td>\n",
       "    </tr>\n",
       "    <tr>\n",
       "      <th>SQFT</th>\n",
       "      <td>181.821425</td>\n",
       "      <td>199.767413</td>\n",
       "    </tr>\n",
       "  </tbody>\n",
       "</table>\n",
       "</div>"
      ],
      "text/plain": [
       "                       0             1\n",
       "Intercept -116124.759068 -83513.348865\n",
       "SQFT          181.821425    199.767413"
      ]
     },
     "execution_count": 189,
     "metadata": {},
     "output_type": "execute_result"
    }
   ],
   "source": [
    "lm.conf_int()\n",
    "#with 95% confidence interval"
   ]
  },
  {
   "cell_type": "code",
   "execution_count": 190,
   "metadata": {
    "collapsed": false
   },
   "outputs": [
    {
     "data": {
      "text/plain": [
       "Intercept     2.809643e-31\n",
       "SQFT         6.193794e-227\n",
       "dtype: float64"
      ]
     },
     "execution_count": 190,
     "metadata": {},
     "output_type": "execute_result"
    }
   ],
   "source": [
    "lm.pvalues\n",
    "# the p-value is less than 0.05, so we can reject the null hypothesis"
   ]
  },
  {
   "cell_type": "code",
   "execution_count": 191,
   "metadata": {
    "collapsed": false
   },
   "outputs": [
    {
     "data": {
      "text/plain": [
       "0.6184362845025807"
      ]
     },
     "execution_count": 191,
     "metadata": {},
     "output_type": "execute_result"
    }
   ],
   "source": [
    "# print the R-squared value for the model\n",
    "lm.rsquared"
   ]
  },
  {
   "cell_type": "code",
   "execution_count": 185,
   "metadata": {
    "collapsed": false,
    "scrolled": true
   },
   "outputs": [
    {
     "data": {
      "text/plain": [
       "count        71.000000\n",
       "mean     275094.211268\n",
       "std      141747.639936\n",
       "min       75000.000000\n",
       "25%      158945.000000\n",
       "50%      249900.000000\n",
       "75%      362400.000000\n",
       "max      749900.000000\n",
       "Name: ListPrice, dtype: float64"
      ]
     },
     "execution_count": 185,
     "metadata": {},
     "output_type": "execute_result"
    },
    {
     "data": {
      "text/plain": [
       "<matplotlib.figure.Figure at 0x124423d90>"
      ]
     },
     "metadata": {},
     "output_type": "display_data"
    }
   ],
   "source": [
    "plt.figure(figsize=(7,7))\n",
    "mask2 = (df.SQFT > 2000) & (df.SQFT < 2222)\n",
    "df[mask2].ListPrice.describe()"
   ]
  },
  {
   "cell_type": "code",
   "execution_count": 188,
   "metadata": {
    "collapsed": false
   },
   "outputs": [
    {
     "data": {
      "text/plain": [
       "<matplotlib.axes._subplots.AxesSubplot at 0x164f064d0>"
      ]
     },
     "execution_count": 188,
     "metadata": {},
     "output_type": "execute_result"
    },
    {
     "data": {
      "image/png": "[encoded data removed]",
      "text/plain": [
       "<matplotlib.figure.Figure at 0x164f110d0>"
      ]
     },
     "metadata": {
      "image/png": {
       "height": 426,
       "width": 493
      }
     },
     "output_type": "display_data"
    }
   ],
   "source": [
    "plt.figure(figsize=(7,7))\n",
    "df[mask2].ListPrice.plot(kind='box')"
   ]
  },
  {
   "cell_type": "markdown",
   "metadata": {},
   "source": [
    "### If we have a house with 2111 square ft, we estimate that the price should be $302947 \n",
    "a quick check by looking at the descriptive data of houses in the similar size range, it seems like the predicted price is within a reasonable price range. (between the 50% and 75% pertentile)"
   ]
  },
  {
   "cell_type": "code",
   "execution_count": null,
   "metadata": {
    "collapsed": true
   },
   "outputs": [],
   "source": []
  },
  {
   "cell_type": "markdown",
   "metadata": {},
   "source": [
    "# Which district should we invest in?\n",
    "Imagine you are an enterprising real estate agent who has the chance to buy up a bundle of houses for sale – but you can only pick one zip code (either 55104 or 55108).\n",
    "Also, you can only buy a bundle of properties priced within the middle 50% of the values – you won’t be able to buy the most expensive houses or the cheapest houses.\n",
    "Assume the sample of houses in this dataset is representative for those zip codes. If you had the choice to buy 1000 homes in either 55104 or 55108 which zip code would you invest in and why? Provide your analysis and reasoning.\n",
    "\n",
    "Need:\n",
    "- listprice\n",
    "- zip\n",
    "\n",
    "Thoughts: are these two the only indicators for investments? Maybe I should also look into other variables to make better decisions..."
   ]
  },
  {
   "cell_type": "code",
   "execution_count": 324,
   "metadata": {
    "collapsed": false
   },
   "outputs": [],
   "source": [
    "df_55104 = df2[df2.ZIP == 55104]"
   ]
  },
  {
   "cell_type": "code",
   "execution_count": 326,
   "metadata": {
    "collapsed": false
   },
   "outputs": [],
   "source": [
    "df_55108 = df2[df2.ZIP == 55108]"
   ]
  },
  {
   "cell_type": "code",
   "execution_count": 327,
   "metadata": {
    "collapsed": false
   },
   "outputs": [
    {
     "data": {
      "text/plain": [
       "(78, 20)"
      ]
     },
     "execution_count": 327,
     "metadata": {},
     "output_type": "execute_result"
    }
   ],
   "source": [
    "df_55104.shape"
   ]
  },
  {
   "cell_type": "code",
   "execution_count": 328,
   "metadata": {
    "collapsed": false
   },
   "outputs": [
    {
     "data": {
      "text/plain": [
       "(15, 20)"
      ]
     },
     "execution_count": 328,
     "metadata": {},
     "output_type": "execute_result"
    }
   ],
   "source": [
    "df_55108.shape"
   ]
  },
  {
   "cell_type": "code",
   "execution_count": 336,
   "metadata": {
    "collapsed": false
   },
   "outputs": [
    {
     "data": {
      "text/plain": [
       "<matplotlib.axes._subplots.AxesSubplot at 0x1629eef10>"
      ]
     },
     "execution_count": 336,
     "metadata": {},
     "output_type": "execute_result"
    },
    {
     "data": {
      "image/png": "[encoded data removed]",
      "text/plain": [
       "<matplotlib.figure.Figure at 0x164bf9d10>"
      ]
     },
     "metadata": {
      "image/png": {
       "height": 258,
       "width": 436
      }
     },
     "output_type": "display_data"
    }
   ],
   "source": [
    "#investigating 55104 and 55108\n",
    "df_55104.ListPrice.plot(kind='box', color='c')\n",
    "df_55108.ListPrice.plot(kind='box', color='m')\n"
   ]
  },
  {
   "cell_type": "code",
   "execution_count": 343,
   "metadata": {
    "collapsed": false
   },
   "outputs": [
    {
     "data": {
      "text/plain": [
       "<matplotlib.axes._subplots.AxesSubplot at 0x170ac4390>"
      ]
     },
     "execution_count": 343,
     "metadata": {},
     "output_type": "execute_result"
    },
    {
     "data": {
      "image/png": "[encoded data removed]",
      "text/plain": [
       "<matplotlib.figure.Figure at 0x18df93050>"
      ]
     },
     "metadata": {
      "image/png": {
       "height": 247,
       "width": 452
      }
     },
     "output_type": "display_data"
    }
   ],
   "source": [
    "sns.boxplot(y='ListPrice', data=df_55104, color='limegreen')\n"
   ]
  },
  {
   "cell_type": "code",
   "execution_count": 344,
   "metadata": {
    "collapsed": false
   },
   "outputs": [
    {
     "data": {
      "text/plain": [
       "<matplotlib.axes._subplots.AxesSubplot at 0x18df7c7d0>"
      ]
     },
     "execution_count": 344,
     "metadata": {},
     "output_type": "execute_result"
    },
    {
     "data": {
      "image/png": "[encoded data removed]",
      "text/plain": [
       "<matplotlib.figure.Figure at 0x18e314c90>"
      ]
     },
     "metadata": {
      "image/png": {
       "height": 247,
       "width": 447
      }
     },
     "output_type": "display_data"
    }
   ],
   "source": [
    "sns.boxplot(y='ListPrice', data=df_55108, color='orange', linewidth=.3)"
   ]
  },
  {
   "cell_type": "code",
   "execution_count": 340,
   "metadata": {
    "collapsed": false
   },
   "outputs": [
    {
     "data": {
      "text/plain": [
       "<matplotlib.axes._subplots.AxesSubplot at 0x188645e50>"
      ]
     },
     "execution_count": 340,
     "metadata": {},
     "output_type": "execute_result"
    },
    {
     "data": {
      "image/png": "[encoded data removed]",
      "text/plain": [
       "<matplotlib.figure.Figure at 0x18865fe10>"
      ]
     },
     "metadata": {
      "image/png": {
       "height": 247,
       "width": 452
      }
     },
     "output_type": "display_data"
    }
   ],
   "source": [
    "sns.swarmplot(y='ListPrice', data=df_55104, color='limegreen')\n",
    "sns.swarmplot(y='ListPrice', data=df_55108, color='orange', linewidth=.3)"
   ]
  },
  {
   "cell_type": "code",
   "execution_count": 332,
   "metadata": {
    "collapsed": false
   },
   "outputs": [
    {
     "data": {
      "text/plain": [
       "count        78.000000\n",
       "mean     200046.576923\n",
       "std      147687.215387\n",
       "min       40000.000000\n",
       "25%      129900.000000\n",
       "50%      153117.000000\n",
       "75%      194425.000000\n",
       "max      990000.000000\n",
       "Name: ListPrice, dtype: float64"
      ]
     },
     "execution_count": 332,
     "metadata": {},
     "output_type": "execute_result"
    }
   ],
   "source": [
    "df_55104.ListPrice.describe()"
   ]
  },
  {
   "cell_type": "code",
   "execution_count": 333,
   "metadata": {
    "collapsed": false
   },
   "outputs": [
    {
     "data": {
      "text/plain": [
       "153117000"
      ]
     },
     "execution_count": 333,
     "metadata": {},
     "output_type": "execute_result"
    }
   ],
   "source": [
    "153117 * 1000"
   ]
  },
  {
   "cell_type": "code",
   "execution_count": 341,
   "metadata": {
    "collapsed": false
   },
   "outputs": [
    {
     "data": {
      "text/plain": [
       "count        15.000000\n",
       "mean     209153.266667\n",
       "std       56871.751487\n",
       "min       89000.000000\n",
       "25%      184700.000000\n",
       "50%      209900.000000\n",
       "75%      244949.500000\n",
       "max      294900.000000\n",
       "Name: ListPrice, dtype: float64"
      ]
     },
     "execution_count": 341,
     "metadata": {},
     "output_type": "execute_result"
    }
   ],
   "source": [
    "df_55108.ListPrice.describe()"
   ]
  },
  {
   "cell_type": "code",
   "execution_count": 342,
   "metadata": {
    "collapsed": false
   },
   "outputs": [
    {
     "data": {
      "text/plain": [
       "209900000"
      ]
     },
     "execution_count": 342,
     "metadata": {},
     "output_type": "execute_result"
    }
   ],
   "source": [
    "209900*1000"
   ]
  },
  {
   "cell_type": "markdown",
   "metadata": {},
   "source": [
    "For zipcode 55104:\n",
    "- \\$153117 for 50% quantile.\n",
    "- It'll cost $153,117,000 in total\n",
    "\n",
    "For zipcode 55108:\n",
    "- \\$209900 for 50% quantile.\n",
    "- It'll cost $209,900,000 in total\n",
    "\n",
    "Analysis:\n",
    "buy the cheaper one or the more expensive one? It's hard to tell. It depends on the future plan of the districts (new subway system ,new mall, elite schools, new companies...etc?). We also want to look at trends and ROI. We don't want to buy a cheaper district that has no growth in the future (will it still stay at the same price 5 or 10 years from now after I bought it?).\n",
    "\n",
    "After some googling, I would recommend buying houses in 55108 district because it's in Saint Paul (high population, high home renters, a lot of schools, metropolitan district, buisness district...etc. It's a place for young professionals and working parents to live.). Saint Paul is great for buying large amount of houses then rent out to those working professionals. Higher potential for growth. Whereas, 55104 Circle Pines is more like a place for retirement, so I expect the growth would be slower since there will be less constructions for malls or subway. People tend to have higher income since they are retired and have lots of money to buy a retirement home. "
   ]
  },
  {
   "cell_type": "code",
   "execution_count": null,
   "metadata": {
    "collapsed": true
   },
   "outputs": [],
   "source": []
  },
  {
   "cell_type": "markdown",
   "metadata": {},
   "source": [
    "# Which features are more important to predict price?\n",
    "\n",
    "We’re looking to understand what features of the home are most important to potentially predicting the list price of a house. What has the strongest relationship to listing price: square foot, lot size, or number of bedrooms? How do they compare? Please explain.\n",
    "\n",
    "- assuming we are only looking at those 3 variables mentioned"
   ]
  },
  {
   "cell_type": "code",
   "execution_count": null,
   "metadata": {
    "collapsed": true
   },
   "outputs": [],
   "source": []
  },
  {
   "cell_type": "code",
   "execution_count": 195,
   "metadata": {
    "collapsed": false,
    "scrolled": true
   },
   "outputs": [
    {
     "data": {
      "text/html": [
       "<div>\n",
       "<table border=\"1\" class=\"dataframe\">\n",
       "  <thead>\n",
       "    <tr style=\"text-align: right;\">\n",
       "      <th></th>\n",
       "      <th>ListPrice</th>\n",
       "      <th>SQFT</th>\n",
       "      <th>LotSize</th>\n",
       "      <th>BEDS</th>\n",
       "    </tr>\n",
       "  </thead>\n",
       "  <tbody>\n",
       "    <tr>\n",
       "      <th>0</th>\n",
       "      <td>214000</td>\n",
       "      <td>1954</td>\n",
       "      <td>6969.0</td>\n",
       "      <td>3</td>\n",
       "    </tr>\n",
       "    <tr>\n",
       "      <th>1</th>\n",
       "      <td>134900</td>\n",
       "      <td>1028</td>\n",
       "      <td>4356.0</td>\n",
       "      <td>3</td>\n",
       "    </tr>\n",
       "    <tr>\n",
       "      <th>2</th>\n",
       "      <td>129722</td>\n",
       "      <td>1420</td>\n",
       "      <td>5227.0</td>\n",
       "      <td>4</td>\n",
       "    </tr>\n",
       "    <tr>\n",
       "      <th>3</th>\n",
       "      <td>134900</td>\n",
       "      <td>904</td>\n",
       "      <td>8712.0</td>\n",
       "      <td>2</td>\n",
       "    </tr>\n",
       "    <tr>\n",
       "      <th>4</th>\n",
       "      <td>444900</td>\n",
       "      <td>2014</td>\n",
       "      <td>12632.0</td>\n",
       "      <td>4</td>\n",
       "    </tr>\n",
       "  </tbody>\n",
       "</table>\n",
       "</div>"
      ],
      "text/plain": [
       "   ListPrice  SQFT  LotSize  BEDS\n",
       "0     214000  1954   6969.0     3\n",
       "1     134900  1028   4356.0     3\n",
       "2     129722  1420   5227.0     4\n",
       "3     134900   904   8712.0     2\n",
       "4     444900  2014  12632.0     4"
      ]
     },
     "execution_count": 195,
     "metadata": {},
     "output_type": "execute_result"
    }
   ],
   "source": [
    "df3 = df2[['ListPrice','SQFT','LotSize','BEDS']]\n",
    "df3.head()"
   ]
  },
  {
   "cell_type": "code",
   "execution_count": 204,
   "metadata": {
    "collapsed": false
   },
   "outputs": [
    {
     "name": "stdout",
     "output_type": "stream",
     "text": [
      "<class 'pandas.core.frame.DataFrame'>\n",
      "Int64Index: 1076 entries, 0 to 1110\n",
      "Data columns (total 4 columns):\n",
      "ListPrice    1076 non-null int64\n",
      "SQFT         1076 non-null int64\n",
      "LotSize      1014 non-null float64\n",
      "BEDS         1076 non-null int64\n",
      "dtypes: float64(1), int64(3)\n",
      "memory usage: 42.0 KB\n"
     ]
    }
   ],
   "source": [
    "df3.info()\n",
    "#missing values for LotSize"
   ]
  },
  {
   "cell_type": "code",
   "execution_count": 205,
   "metadata": {
    "collapsed": false,
    "scrolled": true
   },
   "outputs": [
    {
     "data": {
      "text/html": [
       "<div>\n",
       "<table border=\"1\" class=\"dataframe\">\n",
       "  <thead>\n",
       "    <tr style=\"text-align: right;\">\n",
       "      <th></th>\n",
       "      <th>ListPrice</th>\n",
       "      <th>SQFT</th>\n",
       "      <th>LotSize</th>\n",
       "      <th>BEDS</th>\n",
       "    </tr>\n",
       "  </thead>\n",
       "  <tbody>\n",
       "    <tr>\n",
       "      <th>33</th>\n",
       "      <td>389000</td>\n",
       "      <td>2328</td>\n",
       "      <td>NaN</td>\n",
       "      <td>3</td>\n",
       "    </tr>\n",
       "    <tr>\n",
       "      <th>35</th>\n",
       "      <td>319000</td>\n",
       "      <td>1430</td>\n",
       "      <td>NaN</td>\n",
       "      <td>2</td>\n",
       "    </tr>\n",
       "    <tr>\n",
       "      <th>47</th>\n",
       "      <td>224900</td>\n",
       "      <td>1940</td>\n",
       "      <td>NaN</td>\n",
       "      <td>3</td>\n",
       "    </tr>\n",
       "    <tr>\n",
       "      <th>67</th>\n",
       "      <td>749900</td>\n",
       "      <td>3589</td>\n",
       "      <td>NaN</td>\n",
       "      <td>3</td>\n",
       "    </tr>\n",
       "    <tr>\n",
       "      <th>79</th>\n",
       "      <td>150000</td>\n",
       "      <td>759</td>\n",
       "      <td>NaN</td>\n",
       "      <td>2</td>\n",
       "    </tr>\n",
       "    <tr>\n",
       "      <th>85</th>\n",
       "      <td>215900</td>\n",
       "      <td>720</td>\n",
       "      <td>NaN</td>\n",
       "      <td>2</td>\n",
       "    </tr>\n",
       "    <tr>\n",
       "      <th>100</th>\n",
       "      <td>129900</td>\n",
       "      <td>1101</td>\n",
       "      <td>NaN</td>\n",
       "      <td>2</td>\n",
       "    </tr>\n",
       "    <tr>\n",
       "      <th>127</th>\n",
       "      <td>99000</td>\n",
       "      <td>900</td>\n",
       "      <td>NaN</td>\n",
       "      <td>2</td>\n",
       "    </tr>\n",
       "    <tr>\n",
       "      <th>128</th>\n",
       "      <td>129875</td>\n",
       "      <td>1076</td>\n",
       "      <td>NaN</td>\n",
       "      <td>1</td>\n",
       "    </tr>\n",
       "    <tr>\n",
       "      <th>182</th>\n",
       "      <td>125000</td>\n",
       "      <td>1512</td>\n",
       "      <td>NaN</td>\n",
       "      <td>3</td>\n",
       "    </tr>\n",
       "    <tr>\n",
       "      <th>200</th>\n",
       "      <td>120000</td>\n",
       "      <td>1240</td>\n",
       "      <td>NaN</td>\n",
       "      <td>2</td>\n",
       "    </tr>\n",
       "    <tr>\n",
       "      <th>210</th>\n",
       "      <td>69500</td>\n",
       "      <td>1014</td>\n",
       "      <td>NaN</td>\n",
       "      <td>3</td>\n",
       "    </tr>\n",
       "    <tr>\n",
       "      <th>240</th>\n",
       "      <td>132900</td>\n",
       "      <td>1528</td>\n",
       "      <td>NaN</td>\n",
       "      <td>3</td>\n",
       "    </tr>\n",
       "    <tr>\n",
       "      <th>241</th>\n",
       "      <td>159900</td>\n",
       "      <td>649</td>\n",
       "      <td>NaN</td>\n",
       "      <td>3</td>\n",
       "    </tr>\n",
       "    <tr>\n",
       "      <th>252</th>\n",
       "      <td>69000</td>\n",
       "      <td>710</td>\n",
       "      <td>NaN</td>\n",
       "      <td>1</td>\n",
       "    </tr>\n",
       "    <tr>\n",
       "      <th>256</th>\n",
       "      <td>169900</td>\n",
       "      <td>1829</td>\n",
       "      <td>NaN</td>\n",
       "      <td>3</td>\n",
       "    </tr>\n",
       "    <tr>\n",
       "      <th>287</th>\n",
       "      <td>49900</td>\n",
       "      <td>832</td>\n",
       "      <td>NaN</td>\n",
       "      <td>2</td>\n",
       "    </tr>\n",
       "    <tr>\n",
       "      <th>296</th>\n",
       "      <td>48000</td>\n",
       "      <td>933</td>\n",
       "      <td>NaN</td>\n",
       "      <td>2</td>\n",
       "    </tr>\n",
       "    <tr>\n",
       "      <th>301</th>\n",
       "      <td>199000</td>\n",
       "      <td>1981</td>\n",
       "      <td>NaN</td>\n",
       "      <td>4</td>\n",
       "    </tr>\n",
       "    <tr>\n",
       "      <th>346</th>\n",
       "      <td>125000</td>\n",
       "      <td>1520</td>\n",
       "      <td>NaN</td>\n",
       "      <td>4</td>\n",
       "    </tr>\n",
       "    <tr>\n",
       "      <th>376</th>\n",
       "      <td>144900</td>\n",
       "      <td>1200</td>\n",
       "      <td>NaN</td>\n",
       "      <td>3</td>\n",
       "    </tr>\n",
       "    <tr>\n",
       "      <th>388</th>\n",
       "      <td>77000</td>\n",
       "      <td>1536</td>\n",
       "      <td>NaN</td>\n",
       "      <td>5</td>\n",
       "    </tr>\n",
       "    <tr>\n",
       "      <th>410</th>\n",
       "      <td>199900</td>\n",
       "      <td>1549</td>\n",
       "      <td>NaN</td>\n",
       "      <td>3</td>\n",
       "    </tr>\n",
       "    <tr>\n",
       "      <th>458</th>\n",
       "      <td>215000</td>\n",
       "      <td>1716</td>\n",
       "      <td>NaN</td>\n",
       "      <td>3</td>\n",
       "    </tr>\n",
       "    <tr>\n",
       "      <th>462</th>\n",
       "      <td>119000</td>\n",
       "      <td>1109</td>\n",
       "      <td>NaN</td>\n",
       "      <td>2</td>\n",
       "    </tr>\n",
       "    <tr>\n",
       "      <th>467</th>\n",
       "      <td>71900</td>\n",
       "      <td>744</td>\n",
       "      <td>NaN</td>\n",
       "      <td>2</td>\n",
       "    </tr>\n",
       "    <tr>\n",
       "      <th>494</th>\n",
       "      <td>69500</td>\n",
       "      <td>1564</td>\n",
       "      <td>NaN</td>\n",
       "      <td>2</td>\n",
       "    </tr>\n",
       "    <tr>\n",
       "      <th>525</th>\n",
       "      <td>109900</td>\n",
       "      <td>1358</td>\n",
       "      <td>NaN</td>\n",
       "      <td>3</td>\n",
       "    </tr>\n",
       "    <tr>\n",
       "      <th>551</th>\n",
       "      <td>189900</td>\n",
       "      <td>1549</td>\n",
       "      <td>NaN</td>\n",
       "      <td>3</td>\n",
       "    </tr>\n",
       "    <tr>\n",
       "      <th>561</th>\n",
       "      <td>64000</td>\n",
       "      <td>1794</td>\n",
       "      <td>NaN</td>\n",
       "      <td>3</td>\n",
       "    </tr>\n",
       "    <tr>\n",
       "      <th>...</th>\n",
       "      <td>...</td>\n",
       "      <td>...</td>\n",
       "      <td>...</td>\n",
       "      <td>...</td>\n",
       "    </tr>\n",
       "    <tr>\n",
       "      <th>605</th>\n",
       "      <td>189900</td>\n",
       "      <td>1392</td>\n",
       "      <td>NaN</td>\n",
       "      <td>3</td>\n",
       "    </tr>\n",
       "    <tr>\n",
       "      <th>615</th>\n",
       "      <td>650000</td>\n",
       "      <td>3024</td>\n",
       "      <td>NaN</td>\n",
       "      <td>4</td>\n",
       "    </tr>\n",
       "    <tr>\n",
       "      <th>616</th>\n",
       "      <td>129900</td>\n",
       "      <td>2012</td>\n",
       "      <td>NaN</td>\n",
       "      <td>5</td>\n",
       "    </tr>\n",
       "    <tr>\n",
       "      <th>657</th>\n",
       "      <td>226000</td>\n",
       "      <td>1672</td>\n",
       "      <td>NaN</td>\n",
       "      <td>5</td>\n",
       "    </tr>\n",
       "    <tr>\n",
       "      <th>660</th>\n",
       "      <td>54500</td>\n",
       "      <td>1304</td>\n",
       "      <td>NaN</td>\n",
       "      <td>3</td>\n",
       "    </tr>\n",
       "    <tr>\n",
       "      <th>664</th>\n",
       "      <td>154900</td>\n",
       "      <td>1135</td>\n",
       "      <td>NaN</td>\n",
       "      <td>3</td>\n",
       "    </tr>\n",
       "    <tr>\n",
       "      <th>666</th>\n",
       "      <td>148800</td>\n",
       "      <td>668</td>\n",
       "      <td>NaN</td>\n",
       "      <td>2</td>\n",
       "    </tr>\n",
       "    <tr>\n",
       "      <th>682</th>\n",
       "      <td>169900</td>\n",
       "      <td>1717</td>\n",
       "      <td>NaN</td>\n",
       "      <td>4</td>\n",
       "    </tr>\n",
       "    <tr>\n",
       "      <th>687</th>\n",
       "      <td>559900</td>\n",
       "      <td>3209</td>\n",
       "      <td>NaN</td>\n",
       "      <td>5</td>\n",
       "    </tr>\n",
       "    <tr>\n",
       "      <th>742</th>\n",
       "      <td>350000</td>\n",
       "      <td>1690</td>\n",
       "      <td>NaN</td>\n",
       "      <td>4</td>\n",
       "    </tr>\n",
       "    <tr>\n",
       "      <th>760</th>\n",
       "      <td>165000</td>\n",
       "      <td>1100</td>\n",
       "      <td>NaN</td>\n",
       "      <td>2</td>\n",
       "    </tr>\n",
       "    <tr>\n",
       "      <th>762</th>\n",
       "      <td>159900</td>\n",
       "      <td>1216</td>\n",
       "      <td>NaN</td>\n",
       "      <td>3</td>\n",
       "    </tr>\n",
       "    <tr>\n",
       "      <th>765</th>\n",
       "      <td>145000</td>\n",
       "      <td>1516</td>\n",
       "      <td>NaN</td>\n",
       "      <td>3</td>\n",
       "    </tr>\n",
       "    <tr>\n",
       "      <th>803</th>\n",
       "      <td>239500</td>\n",
       "      <td>1251</td>\n",
       "      <td>NaN</td>\n",
       "      <td>3</td>\n",
       "    </tr>\n",
       "    <tr>\n",
       "      <th>815</th>\n",
       "      <td>750000</td>\n",
       "      <td>4158</td>\n",
       "      <td>NaN</td>\n",
       "      <td>5</td>\n",
       "    </tr>\n",
       "    <tr>\n",
       "      <th>831</th>\n",
       "      <td>79500</td>\n",
       "      <td>1180</td>\n",
       "      <td>NaN</td>\n",
       "      <td>4</td>\n",
       "    </tr>\n",
       "    <tr>\n",
       "      <th>870</th>\n",
       "      <td>154900</td>\n",
       "      <td>1300</td>\n",
       "      <td>NaN</td>\n",
       "      <td>3</td>\n",
       "    </tr>\n",
       "    <tr>\n",
       "      <th>886</th>\n",
       "      <td>32900</td>\n",
       "      <td>896</td>\n",
       "      <td>NaN</td>\n",
       "      <td>2</td>\n",
       "    </tr>\n",
       "    <tr>\n",
       "      <th>928</th>\n",
       "      <td>289900</td>\n",
       "      <td>1769</td>\n",
       "      <td>NaN</td>\n",
       "      <td>3</td>\n",
       "    </tr>\n",
       "    <tr>\n",
       "      <th>938</th>\n",
       "      <td>312000</td>\n",
       "      <td>1864</td>\n",
       "      <td>NaN</td>\n",
       "      <td>3</td>\n",
       "    </tr>\n",
       "    <tr>\n",
       "      <th>954</th>\n",
       "      <td>274999</td>\n",
       "      <td>1705</td>\n",
       "      <td>NaN</td>\n",
       "      <td>4</td>\n",
       "    </tr>\n",
       "    <tr>\n",
       "      <th>986</th>\n",
       "      <td>104900</td>\n",
       "      <td>1092</td>\n",
       "      <td>NaN</td>\n",
       "      <td>3</td>\n",
       "    </tr>\n",
       "    <tr>\n",
       "      <th>1013</th>\n",
       "      <td>249000</td>\n",
       "      <td>2870</td>\n",
       "      <td>NaN</td>\n",
       "      <td>3</td>\n",
       "    </tr>\n",
       "    <tr>\n",
       "      <th>1024</th>\n",
       "      <td>219900</td>\n",
       "      <td>1612</td>\n",
       "      <td>NaN</td>\n",
       "      <td>3</td>\n",
       "    </tr>\n",
       "    <tr>\n",
       "      <th>1033</th>\n",
       "      <td>148000</td>\n",
       "      <td>1494</td>\n",
       "      <td>NaN</td>\n",
       "      <td>4</td>\n",
       "    </tr>\n",
       "    <tr>\n",
       "      <th>1073</th>\n",
       "      <td>24900</td>\n",
       "      <td>1172</td>\n",
       "      <td>NaN</td>\n",
       "      <td>3</td>\n",
       "    </tr>\n",
       "    <tr>\n",
       "      <th>1079</th>\n",
       "      <td>168800</td>\n",
       "      <td>2036</td>\n",
       "      <td>NaN</td>\n",
       "      <td>3</td>\n",
       "    </tr>\n",
       "    <tr>\n",
       "      <th>1086</th>\n",
       "      <td>279900</td>\n",
       "      <td>2700</td>\n",
       "      <td>NaN</td>\n",
       "      <td>4</td>\n",
       "    </tr>\n",
       "    <tr>\n",
       "      <th>1099</th>\n",
       "      <td>139900</td>\n",
       "      <td>396</td>\n",
       "      <td>NaN</td>\n",
       "      <td>4</td>\n",
       "    </tr>\n",
       "    <tr>\n",
       "      <th>1101</th>\n",
       "      <td>165000</td>\n",
       "      <td>1349</td>\n",
       "      <td>NaN</td>\n",
       "      <td>4</td>\n",
       "    </tr>\n",
       "  </tbody>\n",
       "</table>\n",
       "<p>62 rows × 4 columns</p>\n",
       "</div>"
      ],
      "text/plain": [
       "      ListPrice  SQFT  LotSize  BEDS\n",
       "33       389000  2328      NaN     3\n",
       "35       319000  1430      NaN     2\n",
       "47       224900  1940      NaN     3\n",
       "67       749900  3589      NaN     3\n",
       "79       150000   759      NaN     2\n",
       "85       215900   720      NaN     2\n",
       "100      129900  1101      NaN     2\n",
       "127       99000   900      NaN     2\n",
       "128      129875  1076      NaN     1\n",
       "182      125000  1512      NaN     3\n",
       "200      120000  1240      NaN     2\n",
       "210       69500  1014      NaN     3\n",
       "240      132900  1528      NaN     3\n",
       "241      159900   649      NaN     3\n",
       "252       69000   710      NaN     1\n",
       "256      169900  1829      NaN     3\n",
       "287       49900   832      NaN     2\n",
       "296       48000   933      NaN     2\n",
       "301      199000  1981      NaN     4\n",
       "346      125000  1520      NaN     4\n",
       "376      144900  1200      NaN     3\n",
       "388       77000  1536      NaN     5\n",
       "410      199900  1549      NaN     3\n",
       "458      215000  1716      NaN     3\n",
       "462      119000  1109      NaN     2\n",
       "467       71900   744      NaN     2\n",
       "494       69500  1564      NaN     2\n",
       "525      109900  1358      NaN     3\n",
       "551      189900  1549      NaN     3\n",
       "561       64000  1794      NaN     3\n",
       "...         ...   ...      ...   ...\n",
       "605      189900  1392      NaN     3\n",
       "615      650000  3024      NaN     4\n",
       "616      129900  2012      NaN     5\n",
       "657      226000  1672      NaN     5\n",
       "660       54500  1304      NaN     3\n",
       "664      154900  1135      NaN     3\n",
       "666      148800   668      NaN     2\n",
       "682      169900  1717      NaN     4\n",
       "687      559900  3209      NaN     5\n",
       "742      350000  1690      NaN     4\n",
       "760      165000  1100      NaN     2\n",
       "762      159900  1216      NaN     3\n",
       "765      145000  1516      NaN     3\n",
       "803      239500  1251      NaN     3\n",
       "815      750000  4158      NaN     5\n",
       "831       79500  1180      NaN     4\n",
       "870      154900  1300      NaN     3\n",
       "886       32900   896      NaN     2\n",
       "928      289900  1769      NaN     3\n",
       "938      312000  1864      NaN     3\n",
       "954      274999  1705      NaN     4\n",
       "986      104900  1092      NaN     3\n",
       "1013     249000  2870      NaN     3\n",
       "1024     219900  1612      NaN     3\n",
       "1033     148000  1494      NaN     4\n",
       "1073      24900  1172      NaN     3\n",
       "1079     168800  2036      NaN     3\n",
       "1086     279900  2700      NaN     4\n",
       "1099     139900   396      NaN     4\n",
       "1101     165000  1349      NaN     4\n",
       "\n",
       "[62 rows x 4 columns]"
      ]
     },
     "execution_count": 205,
     "metadata": {},
     "output_type": "execute_result"
    }
   ],
   "source": [
    "#deciding what to do with null values\n",
    "df3[df3.LotSize.isnull()]"
   ]
  },
  {
   "cell_type": "code",
   "execution_count": 206,
   "metadata": {
    "collapsed": false
   },
   "outputs": [
    {
     "data": {
      "text/plain": [
       "ListPrice    62\n",
       "SQFT         62\n",
       "LotSize       0\n",
       "BEDS         62\n",
       "dtype: int64"
      ]
     },
     "execution_count": 206,
     "metadata": {},
     "output_type": "execute_result"
    }
   ],
   "source": [
    "df3[df3.LotSize.isnull()].count()\n",
    "#62 out of 1076. rougly 5% have null values on Lotsize. Seems to be a relatively small amount of #.\n",
    "# decided to drop\n"
   ]
  },
  {
   "cell_type": "code",
   "execution_count": 208,
   "metadata": {
    "collapsed": false
   },
   "outputs": [
    {
     "name": "stderr",
     "output_type": "stream",
     "text": [
      "/anaconda/envs/dsi/lib/python2.7/site-packages/ipykernel/__main__.py:1: SettingWithCopyWarning: \n",
      "A value is trying to be set on a copy of a slice from a DataFrame\n",
      "\n",
      "See the caveats in the documentation: http://pandas.pydata.org/pandas-docs/stable/indexing.html#indexing-view-versus-copy\n",
      "  if __name__ == '__main__':\n"
     ]
    }
   ],
   "source": [
    "df3.dropna(inplace=True)"
   ]
  },
  {
   "cell_type": "code",
   "execution_count": 209,
   "metadata": {
    "collapsed": false
   },
   "outputs": [
    {
     "data": {
      "text/html": [
       "<div>\n",
       "<table border=\"1\" class=\"dataframe\">\n",
       "  <thead>\n",
       "    <tr style=\"text-align: right;\">\n",
       "      <th></th>\n",
       "      <th>ListPrice</th>\n",
       "      <th>SQFT</th>\n",
       "      <th>LotSize</th>\n",
       "      <th>BEDS</th>\n",
       "    </tr>\n",
       "  </thead>\n",
       "  <tbody>\n",
       "    <tr>\n",
       "      <th>count</th>\n",
       "      <td>1014.000000</td>\n",
       "      <td>1014.000000</td>\n",
       "      <td>1014.000000</td>\n",
       "      <td>1014.000000</td>\n",
       "    </tr>\n",
       "    <tr>\n",
       "      <th>mean</th>\n",
       "      <td>219997.954635</td>\n",
       "      <td>1676.718935</td>\n",
       "      <td>6400.125247</td>\n",
       "      <td>3.152860</td>\n",
       "    </tr>\n",
       "    <tr>\n",
       "      <th>std</th>\n",
       "      <td>176300.260838</td>\n",
       "      <td>721.266588</td>\n",
       "      <td>7121.993676</td>\n",
       "      <td>0.922092</td>\n",
       "    </tr>\n",
       "    <tr>\n",
       "      <th>min</th>\n",
       "      <td>19900.000000</td>\n",
       "      <td>510.000000</td>\n",
       "      <td>1001.000000</td>\n",
       "      <td>1.000000</td>\n",
       "    </tr>\n",
       "    <tr>\n",
       "      <th>25%</th>\n",
       "      <td>119900.000000</td>\n",
       "      <td>1211.250000</td>\n",
       "      <td>4791.000000</td>\n",
       "      <td>3.000000</td>\n",
       "    </tr>\n",
       "    <tr>\n",
       "      <th>50%</th>\n",
       "      <td>164900.000000</td>\n",
       "      <td>1524.500000</td>\n",
       "      <td>5227.000000</td>\n",
       "      <td>3.000000</td>\n",
       "    </tr>\n",
       "    <tr>\n",
       "      <th>75%</th>\n",
       "      <td>239900.000000</td>\n",
       "      <td>1920.750000</td>\n",
       "      <td>6534.000000</td>\n",
       "      <td>4.000000</td>\n",
       "    </tr>\n",
       "    <tr>\n",
       "      <th>max</th>\n",
       "      <td>999000.000000</td>\n",
       "      <td>5401.000000</td>\n",
       "      <td>136778.000000</td>\n",
       "      <td>8.000000</td>\n",
       "    </tr>\n",
       "  </tbody>\n",
       "</table>\n",
       "</div>"
      ],
      "text/plain": [
       "           ListPrice         SQFT        LotSize         BEDS\n",
       "count    1014.000000  1014.000000    1014.000000  1014.000000\n",
       "mean   219997.954635  1676.718935    6400.125247     3.152860\n",
       "std    176300.260838   721.266588    7121.993676     0.922092\n",
       "min     19900.000000   510.000000    1001.000000     1.000000\n",
       "25%    119900.000000  1211.250000    4791.000000     3.000000\n",
       "50%    164900.000000  1524.500000    5227.000000     3.000000\n",
       "75%    239900.000000  1920.750000    6534.000000     4.000000\n",
       "max    999000.000000  5401.000000  136778.000000     8.000000"
      ]
     },
     "execution_count": 209,
     "metadata": {},
     "output_type": "execute_result"
    }
   ],
   "source": [
    "df3.describe()"
   ]
  },
  {
   "cell_type": "code",
   "execution_count": 214,
   "metadata": {
    "collapsed": false
   },
   "outputs": [
    {
     "data": {
      "text/html": [
       "<div>\n",
       "<table border=\"1\" class=\"dataframe\">\n",
       "  <thead>\n",
       "    <tr style=\"text-align: right;\">\n",
       "      <th></th>\n",
       "      <th>ListPrice</th>\n",
       "      <th>SQFT</th>\n",
       "      <th>LotSize</th>\n",
       "      <th>BEDS</th>\n",
       "    </tr>\n",
       "  </thead>\n",
       "  <tbody>\n",
       "    <tr>\n",
       "      <th>ListPrice</th>\n",
       "      <td>1.000000</td>\n",
       "      <td>0.784666</td>\n",
       "      <td>0.124454</td>\n",
       "      <td>0.470663</td>\n",
       "    </tr>\n",
       "    <tr>\n",
       "      <th>SQFT</th>\n",
       "      <td>0.784666</td>\n",
       "      <td>1.000000</td>\n",
       "      <td>0.141315</td>\n",
       "      <td>0.668932</td>\n",
       "    </tr>\n",
       "    <tr>\n",
       "      <th>LotSize</th>\n",
       "      <td>0.124454</td>\n",
       "      <td>0.141315</td>\n",
       "      <td>1.000000</td>\n",
       "      <td>0.112625</td>\n",
       "    </tr>\n",
       "    <tr>\n",
       "      <th>BEDS</th>\n",
       "      <td>0.470663</td>\n",
       "      <td>0.668932</td>\n",
       "      <td>0.112625</td>\n",
       "      <td>1.000000</td>\n",
       "    </tr>\n",
       "  </tbody>\n",
       "</table>\n",
       "</div>"
      ],
      "text/plain": [
       "           ListPrice      SQFT   LotSize      BEDS\n",
       "ListPrice   1.000000  0.784666  0.124454  0.470663\n",
       "SQFT        0.784666  1.000000  0.141315  0.668932\n",
       "LotSize     0.124454  0.141315  1.000000  0.112625\n",
       "BEDS        0.470663  0.668932  0.112625  1.000000"
      ]
     },
     "execution_count": 214,
     "metadata": {},
     "output_type": "execute_result"
    }
   ],
   "source": [
    "df3.corr()"
   ]
  },
  {
   "cell_type": "code",
   "execution_count": 216,
   "metadata": {
    "collapsed": false
   },
   "outputs": [
    {
     "data": {
      "text/plain": [
       "<matplotlib.axes._subplots.AxesSubplot at 0x167b6e2d0>"
      ]
     },
     "execution_count": 216,
     "metadata": {},
     "output_type": "execute_result"
    },
    {
     "data": {
      "image/png": "[encoded data removed]",
      "text/plain": [
       "<matplotlib.figure.Figure at 0x12462e490>"
      ]
     },
     "metadata": {
      "image/png": {
       "height": 426,
       "width": 444
      }
     },
     "output_type": "display_data"
    }
   ],
   "source": [
    "plt.figure(figsize=(7,7))\n",
    "sns.heatmap(df3.corr())"
   ]
  },
  {
   "cell_type": "code",
   "execution_count": 210,
   "metadata": {
    "collapsed": false
   },
   "outputs": [
    {
     "data": {
      "text/plain": [
       "Intercept   -70744.102495\n",
       "SQFT           207.386328\n",
       "LotSize          0.387825\n",
       "BEDS        -18861.812028\n",
       "dtype: float64"
      ]
     },
     "execution_count": 210,
     "metadata": {},
     "output_type": "execute_result"
    }
   ],
   "source": [
    "# create a fitted model with all three features\n",
    "lm = smf.ols(formula='ListPrice ~ SQFT + LotSize + BEDS', data=df3).fit()\n",
    "\n",
    "# print the coefficients\n",
    "lm.params"
   ]
  },
  {
   "cell_type": "code",
   "execution_count": 211,
   "metadata": {
    "collapsed": false
   },
   "outputs": [
    {
     "data": {
      "text/html": [
       "<div>\n",
       "<table border=\"1\" class=\"dataframe\">\n",
       "  <thead>\n",
       "    <tr style=\"text-align: right;\">\n",
       "      <th></th>\n",
       "      <th>0</th>\n",
       "      <th>1</th>\n",
       "    </tr>\n",
       "  </thead>\n",
       "  <tbody>\n",
       "    <tr>\n",
       "      <th>Intercept</th>\n",
       "      <td>-94859.191712</td>\n",
       "      <td>-46629.013279</td>\n",
       "    </tr>\n",
       "    <tr>\n",
       "      <th>SQFT</th>\n",
       "      <td>194.840610</td>\n",
       "      <td>219.932047</td>\n",
       "    </tr>\n",
       "    <tr>\n",
       "      <th>LotSize</th>\n",
       "      <td>-0.562649</td>\n",
       "      <td>1.338298</td>\n",
       "    </tr>\n",
       "    <tr>\n",
       "      <th>BEDS</th>\n",
       "      <td>-28638.884727</td>\n",
       "      <td>-9084.739329</td>\n",
       "    </tr>\n",
       "  </tbody>\n",
       "</table>\n",
       "</div>"
      ],
      "text/plain": [
       "                      0             1\n",
       "Intercept -94859.191712 -46629.013279\n",
       "SQFT         194.840610    219.932047\n",
       "LotSize       -0.562649      1.338298\n",
       "BEDS      -28638.884727  -9084.739329"
      ]
     },
     "execution_count": 211,
     "metadata": {},
     "output_type": "execute_result"
    }
   ],
   "source": [
    "lm.conf_int()\n"
   ]
  },
  {
   "cell_type": "code",
   "execution_count": 212,
   "metadata": {
    "collapsed": false
   },
   "outputs": [
    {
     "data": {
      "text/plain": [
       "Intercept     1.137445e-08\n",
       "SQFT         9.736832e-159\n",
       "LotSize       4.234996e-01\n",
       "BEDS          1.623236e-04\n",
       "dtype: float64"
      ]
     },
     "execution_count": 212,
     "metadata": {},
     "output_type": "execute_result"
    }
   ],
   "source": [
    "lm.pvalues"
   ]
  },
  {
   "cell_type": "code",
   "execution_count": 213,
   "metadata": {
    "collapsed": false
   },
   "outputs": [
    {
     "data": {
      "text/plain": [
       "0.62126319616112546"
      ]
     },
     "execution_count": 213,
     "metadata": {},
     "output_type": "execute_result"
    }
   ],
   "source": [
    "lm.rsquared"
   ]
  },
  {
   "cell_type": "markdown",
   "metadata": {},
   "source": [
    "based on the correlation graph and the linear regression results:\n",
    "- LotSize is not correlated with ListPrice.\n",
    "- our null hypothesis is true that LotSize doesn't affect ListPrice\n",
    "- SQFT has the strongest predictive power\n",
    "- number of bedrooms is negatively correlated with ListPrice. Meaning that, if we add an extra bedroom, the ListPrice would be $18861 less"
   ]
  },
  {
   "cell_type": "markdown",
   "metadata": {},
   "source": [
    "## Out of curiosity, also quickly look at other variables"
   ]
  },
  {
   "cell_type": "code",
   "execution_count": 222,
   "metadata": {
    "collapsed": false
   },
   "outputs": [
    {
     "name": "stderr",
     "output_type": "stream",
     "text": [
      "/anaconda/envs/dsi/lib/python2.7/site-packages/ipykernel/__main__.py:1: SettingWithCopyWarning: \n",
      "A value is trying to be set on a copy of a slice from a DataFrame\n",
      "\n",
      "See the caveats in the documentation: http://pandas.pydata.org/pandas-docs/stable/indexing.html#indexing-view-versus-copy\n",
      "  if __name__ == '__main__':\n"
     ]
    }
   ],
   "source": [
    "df2.drop(['LastSaleDate'], axis=1, inplace=True)"
   ]
  },
  {
   "cell_type": "code",
   "execution_count": 224,
   "metadata": {
    "collapsed": false
   },
   "outputs": [
    {
     "data": {
      "text/html": [
       "<div>\n",
       "<table border=\"1\" class=\"dataframe\">\n",
       "  <thead>\n",
       "    <tr style=\"text-align: right;\">\n",
       "      <th></th>\n",
       "      <th>ID</th>\n",
       "      <th>ADDRESS</th>\n",
       "      <th>CITY</th>\n",
       "      <th>STATE</th>\n",
       "      <th>ZIP</th>\n",
       "      <th>ListPrice</th>\n",
       "      <th>BEDS</th>\n",
       "      <th>BATHS</th>\n",
       "      <th>LOCATION</th>\n",
       "      <th>SQFT</th>\n",
       "      <th>LotSize</th>\n",
       "      <th>YearBuilt</th>\n",
       "      <th>ParkingSpots</th>\n",
       "      <th>HasGarage</th>\n",
       "      <th>DOM</th>\n",
       "      <th>SoldPrev</th>\n",
       "      <th>Realty</th>\n",
       "      <th>LATITUDE</th>\n",
       "      <th>LONGITUDE</th>\n",
       "      <th>ShortSale</th>\n",
       "    </tr>\n",
       "  </thead>\n",
       "  <tbody>\n",
       "    <tr>\n",
       "      <th>0</th>\n",
       "      <td>4416206</td>\n",
       "      <td>1000 Larpenteur Ave W</td>\n",
       "      <td>St. Paul</td>\n",
       "      <td>MN</td>\n",
       "      <td>55113</td>\n",
       "      <td>214000</td>\n",
       "      <td>3</td>\n",
       "      <td>2.00</td>\n",
       "      <td>Como</td>\n",
       "      <td>1954</td>\n",
       "      <td>6969.0</td>\n",
       "      <td>1918</td>\n",
       "      <td>2</td>\n",
       "      <td>Garage</td>\n",
       "      <td>117</td>\n",
       "      <td>Y</td>\n",
       "      <td>Edina Realty, Inc.</td>\n",
       "      <td>44.991634</td>\n",
       "      <td>-93.142616</td>\n",
       "      <td>N</td>\n",
       "    </tr>\n",
       "    <tr>\n",
       "      <th>1</th>\n",
       "      <td>4423768</td>\n",
       "      <td>1004 Charles Ave</td>\n",
       "      <td>St. Paul</td>\n",
       "      <td>MN</td>\n",
       "      <td>55104</td>\n",
       "      <td>134900</td>\n",
       "      <td>3</td>\n",
       "      <td>1.00</td>\n",
       "      <td>Thomas-Dale (Frogtown)</td>\n",
       "      <td>1028</td>\n",
       "      <td>4356.0</td>\n",
       "      <td>1911</td>\n",
       "      <td>1</td>\n",
       "      <td>Garage</td>\n",
       "      <td>93</td>\n",
       "      <td>Y</td>\n",
       "      <td>Fish MLS Realty</td>\n",
       "      <td>44.957291</td>\n",
       "      <td>-93.142624</td>\n",
       "      <td>N</td>\n",
       "    </tr>\n",
       "    <tr>\n",
       "      <th>2</th>\n",
       "      <td>4427963</td>\n",
       "      <td>1004 Euclid St</td>\n",
       "      <td>St. Paul</td>\n",
       "      <td>MN</td>\n",
       "      <td>55106</td>\n",
       "      <td>129722</td>\n",
       "      <td>4</td>\n",
       "      <td>1.00</td>\n",
       "      <td>Dayton's Bluff</td>\n",
       "      <td>1420</td>\n",
       "      <td>5227.0</td>\n",
       "      <td>1900</td>\n",
       "      <td>0</td>\n",
       "      <td>No Garage</td>\n",
       "      <td>77</td>\n",
       "      <td>N</td>\n",
       "      <td>Coldwell Banker Burnet</td>\n",
       "      <td>44.954708</td>\n",
       "      <td>-93.057976</td>\n",
       "      <td>N</td>\n",
       "    </tr>\n",
       "    <tr>\n",
       "      <th>3</th>\n",
       "      <td>4432178</td>\n",
       "      <td>1005 Saint Anthony Ave</td>\n",
       "      <td>St. Paul</td>\n",
       "      <td>MN</td>\n",
       "      <td>55104</td>\n",
       "      <td>134900</td>\n",
       "      <td>2</td>\n",
       "      <td>1.75</td>\n",
       "      <td>Summit-University</td>\n",
       "      <td>904</td>\n",
       "      <td>8712.0</td>\n",
       "      <td>1928</td>\n",
       "      <td>3</td>\n",
       "      <td>Garage</td>\n",
       "      <td>57</td>\n",
       "      <td>N</td>\n",
       "      <td>Real Estate Masters, Ltd.</td>\n",
       "      <td>44.952404</td>\n",
       "      <td>-93.142693</td>\n",
       "      <td>N</td>\n",
       "    </tr>\n",
       "    <tr>\n",
       "      <th>4</th>\n",
       "      <td>4440070</td>\n",
       "      <td>100X Chatsworth Pl</td>\n",
       "      <td>Shoreview</td>\n",
       "      <td>MN</td>\n",
       "      <td>55126</td>\n",
       "      <td>444900</td>\n",
       "      <td>4</td>\n",
       "      <td>2.50</td>\n",
       "      <td>Shoreview</td>\n",
       "      <td>2014</td>\n",
       "      <td>12632.0</td>\n",
       "      <td>2014</td>\n",
       "      <td>3</td>\n",
       "      <td>Garage</td>\n",
       "      <td>8</td>\n",
       "      <td>N</td>\n",
       "      <td>Coldwell Banker Burnet</td>\n",
       "      <td>44.944391</td>\n",
       "      <td>-93.141348</td>\n",
       "      <td>N</td>\n",
       "    </tr>\n",
       "  </tbody>\n",
       "</table>\n",
       "</div>"
      ],
      "text/plain": [
       "        ID                 ADDRESS       CITY STATE    ZIP  ListPrice  BEDS  \\\n",
       "0  4416206   1000 Larpenteur Ave W   St. Paul    MN  55113     214000     3   \n",
       "1  4423768        1004 Charles Ave   St. Paul    MN  55104     134900     3   \n",
       "2  4427963          1004 Euclid St   St. Paul    MN  55106     129722     4   \n",
       "3  4432178  1005 Saint Anthony Ave   St. Paul    MN  55104     134900     2   \n",
       "4  4440070      100X Chatsworth Pl  Shoreview    MN  55126     444900     4   \n",
       "\n",
       "   BATHS                LOCATION  SQFT  LotSize  YearBuilt  ParkingSpots  \\\n",
       "0   2.00                    Como  1954   6969.0       1918             2   \n",
       "1   1.00  Thomas-Dale (Frogtown)  1028   4356.0       1911             1   \n",
       "2   1.00          Dayton's Bluff  1420   5227.0       1900             0   \n",
       "3   1.75       Summit-University   904   8712.0       1928             3   \n",
       "4   2.50               Shoreview  2014  12632.0       2014             3   \n",
       "\n",
       "   HasGarage  DOM SoldPrev                     Realty   LATITUDE  LONGITUDE  \\\n",
       "0     Garage  117        Y         Edina Realty, Inc.  44.991634 -93.142616   \n",
       "1     Garage   93        Y            Fish MLS Realty  44.957291 -93.142624   \n",
       "2  No Garage   77        N     Coldwell Banker Burnet  44.954708 -93.057976   \n",
       "3     Garage   57        N  Real Estate Masters, Ltd.  44.952404 -93.142693   \n",
       "4     Garage    8        N     Coldwell Banker Burnet  44.944391 -93.141348   \n",
       "\n",
       "  ShortSale  \n",
       "0         N  \n",
       "1         N  \n",
       "2         N  \n",
       "3         N  \n",
       "4         N  "
      ]
     },
     "execution_count": 224,
     "metadata": {},
     "output_type": "execute_result"
    }
   ],
   "source": [
    "df2.head()"
   ]
  },
  {
   "cell_type": "code",
   "execution_count": 317,
   "metadata": {
    "collapsed": false
   },
   "outputs": [
    {
     "data": {
      "text/html": [
       "<div>\n",
       "<table border=\"1\" class=\"dataframe\">\n",
       "  <thead>\n",
       "    <tr style=\"text-align: right;\">\n",
       "      <th></th>\n",
       "      <th>ListPrice</th>\n",
       "      <th>BEDS</th>\n",
       "      <th>BATHS</th>\n",
       "      <th>SQFT</th>\n",
       "      <th>LotSize</th>\n",
       "      <th>ParkingSpots</th>\n",
       "    </tr>\n",
       "  </thead>\n",
       "  <tbody>\n",
       "    <tr>\n",
       "      <th>ListPrice</th>\n",
       "      <td>1.000000</td>\n",
       "      <td>0.466623</td>\n",
       "      <td>0.721824</td>\n",
       "      <td>0.786407</td>\n",
       "      <td>0.124454</td>\n",
       "      <td>0.251559</td>\n",
       "    </tr>\n",
       "    <tr>\n",
       "      <th>BEDS</th>\n",
       "      <td>0.466623</td>\n",
       "      <td>1.000000</td>\n",
       "      <td>0.601387</td>\n",
       "      <td>0.662464</td>\n",
       "      <td>0.112625</td>\n",
       "      <td>0.183392</td>\n",
       "    </tr>\n",
       "    <tr>\n",
       "      <th>BATHS</th>\n",
       "      <td>0.721824</td>\n",
       "      <td>0.601387</td>\n",
       "      <td>1.000000</td>\n",
       "      <td>0.790217</td>\n",
       "      <td>0.092597</td>\n",
       "      <td>0.264829</td>\n",
       "    </tr>\n",
       "    <tr>\n",
       "      <th>SQFT</th>\n",
       "      <td>0.786407</td>\n",
       "      <td>0.662464</td>\n",
       "      <td>0.790217</td>\n",
       "      <td>1.000000</td>\n",
       "      <td>0.141315</td>\n",
       "      <td>0.303779</td>\n",
       "    </tr>\n",
       "    <tr>\n",
       "      <th>LotSize</th>\n",
       "      <td>0.124454</td>\n",
       "      <td>0.112625</td>\n",
       "      <td>0.092597</td>\n",
       "      <td>0.141315</td>\n",
       "      <td>1.000000</td>\n",
       "      <td>0.100278</td>\n",
       "    </tr>\n",
       "    <tr>\n",
       "      <th>ParkingSpots</th>\n",
       "      <td>0.251559</td>\n",
       "      <td>0.183392</td>\n",
       "      <td>0.264829</td>\n",
       "      <td>0.303779</td>\n",
       "      <td>0.100278</td>\n",
       "      <td>1.000000</td>\n",
       "    </tr>\n",
       "  </tbody>\n",
       "</table>\n",
       "</div>"
      ],
      "text/plain": [
       "              ListPrice      BEDS     BATHS      SQFT   LotSize  ParkingSpots\n",
       "ListPrice      1.000000  0.466623  0.721824  0.786407  0.124454      0.251559\n",
       "BEDS           0.466623  1.000000  0.601387  0.662464  0.112625      0.183392\n",
       "BATHS          0.721824  0.601387  1.000000  0.790217  0.092597      0.264829\n",
       "SQFT           0.786407  0.662464  0.790217  1.000000  0.141315      0.303779\n",
       "LotSize        0.124454  0.112625  0.092597  0.141315  1.000000      0.100278\n",
       "ParkingSpots   0.251559  0.183392  0.264829  0.303779  0.100278      1.000000"
      ]
     },
     "execution_count": 317,
     "metadata": {},
     "output_type": "execute_result"
    }
   ],
   "source": [
    "df2[['ListPrice','BEDS','BATHS','SQFT','LotSize','ParkingSpots']].corr()"
   ]
  },
  {
   "cell_type": "code",
   "execution_count": 319,
   "metadata": {
    "collapsed": false
   },
   "outputs": [
    {
     "data": {
      "text/plain": [
       "<matplotlib.axes._subplots.AxesSubplot at 0x1884b9c50>"
      ]
     },
     "execution_count": 319,
     "metadata": {},
     "output_type": "execute_result"
    },
    {
     "data": {
      "image/png": "[encoded data removed]",
      "text/plain": [
       "<matplotlib.figure.Figure at 0x1884a7050>"
      ]
     },
     "metadata": {
      "image/png": {
       "height": 426,
       "width": 444
      }
     },
     "output_type": "display_data"
    }
   ],
   "source": [
    "plt.figure(figsize=(7,7))\n",
    "sns.heatmap(df2[['ListPrice','BEDS','BATHS','SQFT','LotSize','ParkingSpots']].corr())"
   ]
  },
  {
   "cell_type": "markdown",
   "metadata": {},
   "source": [
    "# How would population affect listing?\n",
    "\n",
    "We’d like to understand how listings compare with the population in their area. Take the zip code data in the 2nd sheet and match against the house listing data. What zip codes have the highest amount of listings per the population size? Show the top 10.\n",
    "Separately, what zip code has the highest listing price per person? Google that zip code and provide some hypothesis and examples as to why this might be true.\n",
    "\n",
    "- not sure what it means by population size, assuming it means per capita"
   ]
  },
  {
   "cell_type": "code",
   "execution_count": 225,
   "metadata": {
    "collapsed": true
   },
   "outputs": [],
   "source": [
    "zipcode  = pd.read_excel(\"/Users/KerryChowChow/Data_Science_portfolio/housing_analytics/Dataset.xlsx\", 'Zips')"
   ]
  },
  {
   "cell_type": "code",
   "execution_count": 230,
   "metadata": {
    "collapsed": false
   },
   "outputs": [
    {
     "data": {
      "text/html": [
       "<div>\n",
       "<table border=\"1\" class=\"dataframe\">\n",
       "  <thead>\n",
       "    <tr style=\"text-align: right;\">\n",
       "      <th></th>\n",
       "      <th>ZipCode</th>\n",
       "      <th>Population_2010_Census</th>\n",
       "    </tr>\n",
       "  </thead>\n",
       "  <tbody>\n",
       "    <tr>\n",
       "      <th>0</th>\n",
       "      <td>1001</td>\n",
       "      <td>16769</td>\n",
       "    </tr>\n",
       "    <tr>\n",
       "      <th>1</th>\n",
       "      <td>1002</td>\n",
       "      <td>29049</td>\n",
       "    </tr>\n",
       "    <tr>\n",
       "      <th>2</th>\n",
       "      <td>1003</td>\n",
       "      <td>10372</td>\n",
       "    </tr>\n",
       "    <tr>\n",
       "      <th>3</th>\n",
       "      <td>1005</td>\n",
       "      <td>5079</td>\n",
       "    </tr>\n",
       "    <tr>\n",
       "      <th>4</th>\n",
       "      <td>1007</td>\n",
       "      <td>14649</td>\n",
       "    </tr>\n",
       "  </tbody>\n",
       "</table>\n",
       "</div>"
      ],
      "text/plain": [
       "   ZipCode  Population_2010_Census\n",
       "0     1001                   16769\n",
       "1     1002                   29049\n",
       "2     1003                   10372\n",
       "3     1005                    5079\n",
       "4     1007                   14649"
      ]
     },
     "execution_count": 230,
     "metadata": {},
     "output_type": "execute_result"
    }
   ],
   "source": [
    "zipcode.head()"
   ]
  },
  {
   "cell_type": "code",
   "execution_count": 234,
   "metadata": {
    "collapsed": false
   },
   "outputs": [],
   "source": [
    "zipcode.rename(columns={'ZipCode':'ZIP'}, inplace=True)"
   ]
  },
  {
   "cell_type": "code",
   "execution_count": 235,
   "metadata": {
    "collapsed": false
   },
   "outputs": [
    {
     "data": {
      "text/html": [
       "<div>\n",
       "<table border=\"1\" class=\"dataframe\">\n",
       "  <thead>\n",
       "    <tr style=\"text-align: right;\">\n",
       "      <th></th>\n",
       "      <th>ZIP</th>\n",
       "      <th>Population_2010_Census</th>\n",
       "    </tr>\n",
       "  </thead>\n",
       "  <tbody>\n",
       "    <tr>\n",
       "      <th>0</th>\n",
       "      <td>1001</td>\n",
       "      <td>16769</td>\n",
       "    </tr>\n",
       "    <tr>\n",
       "      <th>1</th>\n",
       "      <td>1002</td>\n",
       "      <td>29049</td>\n",
       "    </tr>\n",
       "  </tbody>\n",
       "</table>\n",
       "</div>"
      ],
      "text/plain": [
       "    ZIP  Population_2010_Census\n",
       "0  1001                   16769\n",
       "1  1002                   29049"
      ]
     },
     "execution_count": 235,
     "metadata": {},
     "output_type": "execute_result"
    }
   ],
   "source": [
    "zipcode.head(2)"
   ]
  },
  {
   "cell_type": "code",
   "execution_count": 229,
   "metadata": {
    "collapsed": false
   },
   "outputs": [
    {
     "data": {
      "text/html": [
       "<div>\n",
       "<table border=\"1\" class=\"dataframe\">\n",
       "  <thead>\n",
       "    <tr style=\"text-align: right;\">\n",
       "      <th></th>\n",
       "      <th>ID</th>\n",
       "      <th>ADDRESS</th>\n",
       "      <th>CITY</th>\n",
       "      <th>STATE</th>\n",
       "      <th>ZIP</th>\n",
       "      <th>ListPrice</th>\n",
       "      <th>BEDS</th>\n",
       "      <th>BATHS</th>\n",
       "      <th>LOCATION</th>\n",
       "      <th>SQFT</th>\n",
       "      <th>LotSize</th>\n",
       "      <th>YearBuilt</th>\n",
       "      <th>ParkingSpots</th>\n",
       "      <th>HasGarage</th>\n",
       "      <th>DOM</th>\n",
       "      <th>SoldPrev</th>\n",
       "      <th>Realty</th>\n",
       "      <th>LATITUDE</th>\n",
       "      <th>LONGITUDE</th>\n",
       "      <th>ShortSale</th>\n",
       "    </tr>\n",
       "  </thead>\n",
       "  <tbody>\n",
       "    <tr>\n",
       "      <th>0</th>\n",
       "      <td>4416206</td>\n",
       "      <td>1000 Larpenteur Ave W</td>\n",
       "      <td>St. Paul</td>\n",
       "      <td>MN</td>\n",
       "      <td>55113</td>\n",
       "      <td>214000</td>\n",
       "      <td>3</td>\n",
       "      <td>2.0</td>\n",
       "      <td>Como</td>\n",
       "      <td>1954</td>\n",
       "      <td>6969.0</td>\n",
       "      <td>1918</td>\n",
       "      <td>2</td>\n",
       "      <td>Garage</td>\n",
       "      <td>117</td>\n",
       "      <td>Y</td>\n",
       "      <td>Edina Realty, Inc.</td>\n",
       "      <td>44.991634</td>\n",
       "      <td>-93.142616</td>\n",
       "      <td>N</td>\n",
       "    </tr>\n",
       "    <tr>\n",
       "      <th>1</th>\n",
       "      <td>4423768</td>\n",
       "      <td>1004 Charles Ave</td>\n",
       "      <td>St. Paul</td>\n",
       "      <td>MN</td>\n",
       "      <td>55104</td>\n",
       "      <td>134900</td>\n",
       "      <td>3</td>\n",
       "      <td>1.0</td>\n",
       "      <td>Thomas-Dale (Frogtown)</td>\n",
       "      <td>1028</td>\n",
       "      <td>4356.0</td>\n",
       "      <td>1911</td>\n",
       "      <td>1</td>\n",
       "      <td>Garage</td>\n",
       "      <td>93</td>\n",
       "      <td>Y</td>\n",
       "      <td>Fish MLS Realty</td>\n",
       "      <td>44.957291</td>\n",
       "      <td>-93.142624</td>\n",
       "      <td>N</td>\n",
       "    </tr>\n",
       "  </tbody>\n",
       "</table>\n",
       "</div>"
      ],
      "text/plain": [
       "        ID                ADDRESS      CITY STATE    ZIP  ListPrice  BEDS  \\\n",
       "0  4416206  1000 Larpenteur Ave W  St. Paul    MN  55113     214000     3   \n",
       "1  4423768       1004 Charles Ave  St. Paul    MN  55104     134900     3   \n",
       "\n",
       "   BATHS                LOCATION  SQFT  LotSize  YearBuilt  ParkingSpots  \\\n",
       "0    2.0                    Como  1954   6969.0       1918             2   \n",
       "1    1.0  Thomas-Dale (Frogtown)  1028   4356.0       1911             1   \n",
       "\n",
       "  HasGarage  DOM SoldPrev              Realty   LATITUDE  LONGITUDE ShortSale  \n",
       "0    Garage  117        Y  Edina Realty, Inc.  44.991634 -93.142616         N  \n",
       "1    Garage   93        Y     Fish MLS Realty  44.957291 -93.142624         N  "
      ]
     },
     "execution_count": 229,
     "metadata": {},
     "output_type": "execute_result"
    }
   ],
   "source": [
    "df2.head(2)"
   ]
  },
  {
   "cell_type": "code",
   "execution_count": 237,
   "metadata": {
    "collapsed": false
   },
   "outputs": [
    {
     "data": {
      "text/plain": [
       "(1076, 20)"
      ]
     },
     "execution_count": 237,
     "metadata": {},
     "output_type": "execute_result"
    }
   ],
   "source": [
    "df2.shape"
   ]
  },
  {
   "cell_type": "code",
   "execution_count": 239,
   "metadata": {
    "collapsed": false
   },
   "outputs": [],
   "source": [
    "zip_df = df2.merge(zipcode,on='ZIP' )"
   ]
  },
  {
   "cell_type": "code",
   "execution_count": 252,
   "metadata": {
    "collapsed": false,
    "scrolled": true
   },
   "outputs": [
    {
     "data": {
      "text/plain": [
       "ZIP\n",
       "55101      2\n",
       "55102     23\n",
       "55103     14\n",
       "55104     78\n",
       "55105     50\n",
       "55106    133\n",
       "55107     31\n",
       "55108     15\n",
       "55113      1\n",
       "55114      1\n",
       "55116     43\n",
       "55117     55\n",
       "55118      3\n",
       "55119     42\n",
       "55126      2\n",
       "55129      1\n",
       "55130     19\n",
       "55404      3\n",
       "55405      4\n",
       "55406     72\n",
       "55407     57\n",
       "55408     16\n",
       "55409     12\n",
       "55410     46\n",
       "55411     45\n",
       "55412    107\n",
       "55413      9\n",
       "55416      4\n",
       "55417     59\n",
       "55418     47\n",
       "55419     55\n",
       "55421      2\n",
       "55430     25\n",
       "Name: ListPrice, dtype: int64"
      ]
     },
     "execution_count": 252,
     "metadata": {},
     "output_type": "execute_result"
    }
   ],
   "source": [
    "# What zip codes have the highest amount of listings per the population size? Show the top 10. \n",
    "groupby_zip = zip_df.groupby(['ZIP']).ListPrice.count()\n",
    "groupby_zip"
   ]
  },
  {
   "cell_type": "code",
   "execution_count": 260,
   "metadata": {
    "collapsed": false
   },
   "outputs": [
    {
     "data": {
      "text/html": [
       "<div>\n",
       "<table border=\"1\" class=\"dataframe\">\n",
       "  <thead>\n",
       "    <tr style=\"text-align: right;\">\n",
       "      <th></th>\n",
       "      <th>ZIP</th>\n",
       "      <th>Population_2010_Census</th>\n",
       "    </tr>\n",
       "  </thead>\n",
       "  <tbody>\n",
       "    <tr>\n",
       "      <th>18380</th>\n",
       "      <td>55101</td>\n",
       "      <td>5592</td>\n",
       "    </tr>\n",
       "    <tr>\n",
       "      <th>18381</th>\n",
       "      <td>55102</td>\n",
       "      <td>18207</td>\n",
       "    </tr>\n",
       "  </tbody>\n",
       "</table>\n",
       "</div>"
      ],
      "text/plain": [
       "         ZIP  Population_2010_Census\n",
       "18380  55101                    5592\n",
       "18381  55102                   18207"
      ]
     },
     "execution_count": 260,
     "metadata": {},
     "output_type": "execute_result"
    }
   ],
   "source": [
    "#find populations for those selected zipcodes\n",
    "selected = zipcode[zipcode.ZIP.isin(groupby_zip.index.tolist())]\n",
    "selected.head(2)"
   ]
  },
  {
   "cell_type": "code",
   "execution_count": 266,
   "metadata": {
    "collapsed": false
   },
   "outputs": [],
   "source": [
    "groupby_zip = groupby_zip.reset_index()"
   ]
  },
  {
   "cell_type": "code",
   "execution_count": 268,
   "metadata": {
    "collapsed": false
   },
   "outputs": [
    {
     "data": {
      "text/html": [
       "<div>\n",
       "<table border=\"1\" class=\"dataframe\">\n",
       "  <thead>\n",
       "    <tr style=\"text-align: right;\">\n",
       "      <th></th>\n",
       "      <th>ZIP</th>\n",
       "      <th>Population_2010_Census</th>\n",
       "      <th>ListPrice</th>\n",
       "    </tr>\n",
       "  </thead>\n",
       "  <tbody>\n",
       "    <tr>\n",
       "      <th>0</th>\n",
       "      <td>55101</td>\n",
       "      <td>5592</td>\n",
       "      <td>2</td>\n",
       "    </tr>\n",
       "    <tr>\n",
       "      <th>1</th>\n",
       "      <td>55102</td>\n",
       "      <td>18207</td>\n",
       "      <td>23</td>\n",
       "    </tr>\n",
       "    <tr>\n",
       "      <th>2</th>\n",
       "      <td>55103</td>\n",
       "      <td>12991</td>\n",
       "      <td>14</td>\n",
       "    </tr>\n",
       "    <tr>\n",
       "      <th>3</th>\n",
       "      <td>55104</td>\n",
       "      <td>43248</td>\n",
       "      <td>78</td>\n",
       "    </tr>\n",
       "    <tr>\n",
       "      <th>4</th>\n",
       "      <td>55105</td>\n",
       "      <td>28455</td>\n",
       "      <td>50</td>\n",
       "    </tr>\n",
       "  </tbody>\n",
       "</table>\n",
       "</div>"
      ],
      "text/plain": [
       "     ZIP  Population_2010_Census  ListPrice\n",
       "0  55101                    5592          2\n",
       "1  55102                   18207         23\n",
       "2  55103                   12991         14\n",
       "3  55104                   43248         78\n",
       "4  55105                   28455         50"
      ]
     },
     "execution_count": 268,
     "metadata": {},
     "output_type": "execute_result"
    }
   ],
   "source": [
    "df4 = selected.merge(groupby_zip, on='ZIP')\n",
    "df4.head()"
   ]
  },
  {
   "cell_type": "code",
   "execution_count": 269,
   "metadata": {
    "collapsed": true
   },
   "outputs": [],
   "source": [
    "df4['#ListingPerPop'] = df4.ListPrice/df4.Population_2010_Census"
   ]
  },
  {
   "cell_type": "code",
   "execution_count": 281,
   "metadata": {
    "collapsed": false
   },
   "outputs": [],
   "source": [
    "df4.rename(columns={'ListPrice':'NumberofHouses'}, inplace=True)"
   ]
  },
  {
   "cell_type": "code",
   "execution_count": 284,
   "metadata": {
    "collapsed": false
   },
   "outputs": [],
   "source": [
    "top10 = df4.sort_values(['#ListingPerPop'], ascending=False).head(10)"
   ]
  },
  {
   "cell_type": "code",
   "execution_count": 285,
   "metadata": {
    "collapsed": false,
    "scrolled": true
   },
   "outputs": [
    {
     "data": {
      "text/html": [
       "<div>\n",
       "<table border=\"1\" class=\"dataframe\">\n",
       "  <thead>\n",
       "    <tr style=\"text-align: right;\">\n",
       "      <th></th>\n",
       "      <th>ZIP</th>\n",
       "      <th>Population_2010_Census</th>\n",
       "      <th>NumberofHouses</th>\n",
       "      <th>#ListingPerPop</th>\n",
       "    </tr>\n",
       "  </thead>\n",
       "  <tbody>\n",
       "    <tr>\n",
       "      <th>25</th>\n",
       "      <td>55412</td>\n",
       "      <td>22148</td>\n",
       "      <td>107</td>\n",
       "      <td>0.004831</td>\n",
       "    </tr>\n",
       "    <tr>\n",
       "      <th>5</th>\n",
       "      <td>55106</td>\n",
       "      <td>52730</td>\n",
       "      <td>133</td>\n",
       "      <td>0.002522</td>\n",
       "    </tr>\n",
       "    <tr>\n",
       "      <th>23</th>\n",
       "      <td>55410</td>\n",
       "      <td>19340</td>\n",
       "      <td>46</td>\n",
       "      <td>0.002378</td>\n",
       "    </tr>\n",
       "    <tr>\n",
       "      <th>28</th>\n",
       "      <td>55417</td>\n",
       "      <td>24875</td>\n",
       "      <td>59</td>\n",
       "      <td>0.002372</td>\n",
       "    </tr>\n",
       "    <tr>\n",
       "      <th>19</th>\n",
       "      <td>55406</td>\n",
       "      <td>32112</td>\n",
       "      <td>72</td>\n",
       "      <td>0.002242</td>\n",
       "    </tr>\n",
       "    <tr>\n",
       "      <th>6</th>\n",
       "      <td>55107</td>\n",
       "      <td>14776</td>\n",
       "      <td>31</td>\n",
       "      <td>0.002098</td>\n",
       "    </tr>\n",
       "    <tr>\n",
       "      <th>30</th>\n",
       "      <td>55419</td>\n",
       "      <td>26406</td>\n",
       "      <td>55</td>\n",
       "      <td>0.002083</td>\n",
       "    </tr>\n",
       "    <tr>\n",
       "      <th>3</th>\n",
       "      <td>55104</td>\n",
       "      <td>43248</td>\n",
       "      <td>78</td>\n",
       "      <td>0.001804</td>\n",
       "    </tr>\n",
       "    <tr>\n",
       "      <th>10</th>\n",
       "      <td>55116</td>\n",
       "      <td>23851</td>\n",
       "      <td>43</td>\n",
       "      <td>0.001803</td>\n",
       "    </tr>\n",
       "    <tr>\n",
       "      <th>4</th>\n",
       "      <td>55105</td>\n",
       "      <td>28455</td>\n",
       "      <td>50</td>\n",
       "      <td>0.001757</td>\n",
       "    </tr>\n",
       "  </tbody>\n",
       "</table>\n",
       "</div>"
      ],
      "text/plain": [
       "      ZIP  Population_2010_Census  NumberofHouses  #ListingPerPop\n",
       "25  55412                   22148             107        0.004831\n",
       "5   55106                   52730             133        0.002522\n",
       "23  55410                   19340              46        0.002378\n",
       "28  55417                   24875              59        0.002372\n",
       "19  55406                   32112              72        0.002242\n",
       "6   55107                   14776              31        0.002098\n",
       "30  55419                   26406              55        0.002083\n",
       "3   55104                   43248              78        0.001804\n",
       "10  55116                   23851              43        0.001803\n",
       "4   55105                   28455              50        0.001757"
      ]
     },
     "execution_count": 285,
     "metadata": {},
     "output_type": "execute_result"
    }
   ],
   "source": [
    "top10"
   ]
  },
  {
   "cell_type": "code",
   "execution_count": 295,
   "metadata": {
    "collapsed": false
   },
   "outputs": [
    {
     "data": {
      "text/plain": [
       "[55412, 55106, 55410, 55417, 55406, 55107, 55419, 55104, 55116, 55105]"
      ]
     },
     "execution_count": 295,
     "metadata": {},
     "output_type": "execute_result"
    }
   ],
   "source": [
    "top10.ZIP.tolist()"
   ]
  },
  {
   "cell_type": "markdown",
   "metadata": {},
   "source": [
    "These zip codes have the highest amount of listings per the population size:\n",
    "- 55412, 55106, 55410, 55417, 55406, 55107, 55419, 55104, 55116, 55105"
   ]
  },
  {
   "cell_type": "markdown",
   "metadata": {},
   "source": [
    "#### what zip code has the highest listing price per person?\n",
    "#### Google that zip code and provide some hypothesis and examples as to why this might be true.\n",
    "\n",
    "1. get the average listing price for each zipcode\n",
    "2. calculate avg price / population"
   ]
  },
  {
   "cell_type": "code",
   "execution_count": 300,
   "metadata": {
    "collapsed": false,
    "scrolled": true
   },
   "outputs": [
    {
     "data": {
      "text/plain": [
       "ZIP\n",
       "55101     67400\n",
       "55102    254760\n",
       "55103    103207\n",
       "55104    200046\n",
       "55105    392748\n",
       "55106    130750\n",
       "55107    144720\n",
       "55108    209153\n",
       "55113    214000\n",
       "55114    150000\n",
       "55116    368003\n",
       "55117    150160\n",
       "55118    154633\n",
       "55119    142948\n",
       "55126    464400\n",
       "55129    319000\n",
       "55130    124696\n",
       "55404    183266\n",
       "55405    699725\n",
       "55406    221257\n",
       "55407    195391\n",
       "55408    351936\n",
       "55409    368383\n",
       "55410    569423\n",
       "55411     96085\n",
       "55412    102047\n",
       "55413    195952\n",
       "55416    548450\n",
       "55417    224030\n",
       "55418    189482\n",
       "55419    389663\n",
       "55421    147400\n",
       "55430    123997\n",
       "Name: ListPrice, dtype: int64"
      ]
     },
     "execution_count": 300,
     "metadata": {},
     "output_type": "execute_result"
    }
   ],
   "source": [
    "avg_list_price = zip_df.groupby(['ZIP']).ListPrice.mean()\n",
    "avg_list_price"
   ]
  },
  {
   "cell_type": "code",
   "execution_count": 308,
   "metadata": {
    "collapsed": false
   },
   "outputs": [
    {
     "data": {
      "text/plain": [
       "(33,)"
      ]
     },
     "execution_count": 308,
     "metadata": {},
     "output_type": "execute_result"
    }
   ],
   "source": [
    "avg_list_price.shape"
   ]
  },
  {
   "cell_type": "code",
   "execution_count": 309,
   "metadata": {
    "collapsed": false,
    "scrolled": true
   },
   "outputs": [
    {
     "data": {
      "text/html": [
       "<div>\n",
       "<table border=\"1\" class=\"dataframe\">\n",
       "  <thead>\n",
       "    <tr style=\"text-align: right;\">\n",
       "      <th></th>\n",
       "      <th>ZIP</th>\n",
       "      <th>Population_2010_Census</th>\n",
       "      <th>ListPrice</th>\n",
       "    </tr>\n",
       "  </thead>\n",
       "  <tbody>\n",
       "    <tr>\n",
       "      <th>0</th>\n",
       "      <td>55101</td>\n",
       "      <td>5592</td>\n",
       "      <td>67400</td>\n",
       "    </tr>\n",
       "    <tr>\n",
       "      <th>1</th>\n",
       "      <td>55102</td>\n",
       "      <td>18207</td>\n",
       "      <td>254760</td>\n",
       "    </tr>\n",
       "    <tr>\n",
       "      <th>2</th>\n",
       "      <td>55103</td>\n",
       "      <td>12991</td>\n",
       "      <td>103207</td>\n",
       "    </tr>\n",
       "    <tr>\n",
       "      <th>3</th>\n",
       "      <td>55104</td>\n",
       "      <td>43248</td>\n",
       "      <td>200046</td>\n",
       "    </tr>\n",
       "    <tr>\n",
       "      <th>4</th>\n",
       "      <td>55105</td>\n",
       "      <td>28455</td>\n",
       "      <td>392748</td>\n",
       "    </tr>\n",
       "    <tr>\n",
       "      <th>5</th>\n",
       "      <td>55106</td>\n",
       "      <td>52730</td>\n",
       "      <td>130750</td>\n",
       "    </tr>\n",
       "    <tr>\n",
       "      <th>6</th>\n",
       "      <td>55107</td>\n",
       "      <td>14776</td>\n",
       "      <td>144720</td>\n",
       "    </tr>\n",
       "    <tr>\n",
       "      <th>7</th>\n",
       "      <td>55108</td>\n",
       "      <td>14688</td>\n",
       "      <td>209153</td>\n",
       "    </tr>\n",
       "    <tr>\n",
       "      <th>8</th>\n",
       "      <td>55113</td>\n",
       "      <td>38994</td>\n",
       "      <td>214000</td>\n",
       "    </tr>\n",
       "    <tr>\n",
       "      <th>9</th>\n",
       "      <td>55114</td>\n",
       "      <td>3100</td>\n",
       "      <td>150000</td>\n",
       "    </tr>\n",
       "    <tr>\n",
       "      <th>10</th>\n",
       "      <td>55116</td>\n",
       "      <td>23851</td>\n",
       "      <td>368003</td>\n",
       "    </tr>\n",
       "    <tr>\n",
       "      <th>11</th>\n",
       "      <td>55117</td>\n",
       "      <td>41649</td>\n",
       "      <td>150160</td>\n",
       "    </tr>\n",
       "    <tr>\n",
       "      <th>12</th>\n",
       "      <td>55118</td>\n",
       "      <td>27548</td>\n",
       "      <td>154633</td>\n",
       "    </tr>\n",
       "    <tr>\n",
       "      <th>13</th>\n",
       "      <td>55119</td>\n",
       "      <td>38966</td>\n",
       "      <td>142948</td>\n",
       "    </tr>\n",
       "    <tr>\n",
       "      <th>14</th>\n",
       "      <td>55126</td>\n",
       "      <td>25140</td>\n",
       "      <td>464400</td>\n",
       "    </tr>\n",
       "    <tr>\n",
       "      <th>15</th>\n",
       "      <td>55129</td>\n",
       "      <td>18697</td>\n",
       "      <td>319000</td>\n",
       "    </tr>\n",
       "    <tr>\n",
       "      <th>16</th>\n",
       "      <td>55130</td>\n",
       "      <td>17575</td>\n",
       "      <td>124696</td>\n",
       "    </tr>\n",
       "    <tr>\n",
       "      <th>17</th>\n",
       "      <td>55404</td>\n",
       "      <td>27121</td>\n",
       "      <td>183266</td>\n",
       "    </tr>\n",
       "    <tr>\n",
       "      <th>18</th>\n",
       "      <td>55405</td>\n",
       "      <td>15411</td>\n",
       "      <td>699725</td>\n",
       "    </tr>\n",
       "    <tr>\n",
       "      <th>19</th>\n",
       "      <td>55406</td>\n",
       "      <td>32112</td>\n",
       "      <td>221257</td>\n",
       "    </tr>\n",
       "    <tr>\n",
       "      <th>20</th>\n",
       "      <td>55407</td>\n",
       "      <td>37881</td>\n",
       "      <td>195391</td>\n",
       "    </tr>\n",
       "    <tr>\n",
       "      <th>21</th>\n",
       "      <td>55408</td>\n",
       "      <td>29981</td>\n",
       "      <td>351936</td>\n",
       "    </tr>\n",
       "    <tr>\n",
       "      <th>22</th>\n",
       "      <td>55409</td>\n",
       "      <td>11615</td>\n",
       "      <td>368383</td>\n",
       "    </tr>\n",
       "    <tr>\n",
       "      <th>23</th>\n",
       "      <td>55410</td>\n",
       "      <td>19340</td>\n",
       "      <td>569423</td>\n",
       "    </tr>\n",
       "    <tr>\n",
       "      <th>24</th>\n",
       "      <td>55411</td>\n",
       "      <td>27428</td>\n",
       "      <td>96085</td>\n",
       "    </tr>\n",
       "    <tr>\n",
       "      <th>25</th>\n",
       "      <td>55412</td>\n",
       "      <td>22148</td>\n",
       "      <td>102047</td>\n",
       "    </tr>\n",
       "    <tr>\n",
       "      <th>26</th>\n",
       "      <td>55413</td>\n",
       "      <td>12934</td>\n",
       "      <td>195952</td>\n",
       "    </tr>\n",
       "    <tr>\n",
       "      <th>27</th>\n",
       "      <td>55416</td>\n",
       "      <td>29027</td>\n",
       "      <td>548450</td>\n",
       "    </tr>\n",
       "    <tr>\n",
       "      <th>28</th>\n",
       "      <td>55417</td>\n",
       "      <td>24875</td>\n",
       "      <td>224030</td>\n",
       "    </tr>\n",
       "    <tr>\n",
       "      <th>29</th>\n",
       "      <td>55418</td>\n",
       "      <td>29472</td>\n",
       "      <td>189482</td>\n",
       "    </tr>\n",
       "    <tr>\n",
       "      <th>30</th>\n",
       "      <td>55419</td>\n",
       "      <td>26406</td>\n",
       "      <td>389663</td>\n",
       "    </tr>\n",
       "    <tr>\n",
       "      <th>31</th>\n",
       "      <td>55421</td>\n",
       "      <td>27035</td>\n",
       "      <td>147400</td>\n",
       "    </tr>\n",
       "    <tr>\n",
       "      <th>32</th>\n",
       "      <td>55430</td>\n",
       "      <td>21508</td>\n",
       "      <td>123997</td>\n",
       "    </tr>\n",
       "  </tbody>\n",
       "</table>\n",
       "</div>"
      ],
      "text/plain": [
       "      ZIP  Population_2010_Census  ListPrice\n",
       "0   55101                    5592      67400\n",
       "1   55102                   18207     254760\n",
       "2   55103                   12991     103207\n",
       "3   55104                   43248     200046\n",
       "4   55105                   28455     392748\n",
       "5   55106                   52730     130750\n",
       "6   55107                   14776     144720\n",
       "7   55108                   14688     209153\n",
       "8   55113                   38994     214000\n",
       "9   55114                    3100     150000\n",
       "10  55116                   23851     368003\n",
       "11  55117                   41649     150160\n",
       "12  55118                   27548     154633\n",
       "13  55119                   38966     142948\n",
       "14  55126                   25140     464400\n",
       "15  55129                   18697     319000\n",
       "16  55130                   17575     124696\n",
       "17  55404                   27121     183266\n",
       "18  55405                   15411     699725\n",
       "19  55406                   32112     221257\n",
       "20  55407                   37881     195391\n",
       "21  55408                   29981     351936\n",
       "22  55409                   11615     368383\n",
       "23  55410                   19340     569423\n",
       "24  55411                   27428      96085\n",
       "25  55412                   22148     102047\n",
       "26  55413                   12934     195952\n",
       "27  55416                   29027     548450\n",
       "28  55417                   24875     224030\n",
       "29  55418                   29472     189482\n",
       "30  55419                   26406     389663\n",
       "31  55421                   27035     147400\n",
       "32  55430                   21508     123997"
      ]
     },
     "execution_count": 309,
     "metadata": {},
     "output_type": "execute_result"
    }
   ],
   "source": [
    "price_cap = zipcode.merge(avg_list_price.reset_index(), on='ZIP')\n",
    "price_cap"
   ]
  },
  {
   "cell_type": "code",
   "execution_count": 310,
   "metadata": {
    "collapsed": false
   },
   "outputs": [],
   "source": [
    "# calculating price per capital\n",
    "price_cap['price_per_cap'] = price_cap['ListPrice']/price_cap['Population_2010_Census']"
   ]
  },
  {
   "cell_type": "code",
   "execution_count": 314,
   "metadata": {
    "collapsed": false,
    "scrolled": true
   },
   "outputs": [
    {
     "name": "stderr",
     "output_type": "stream",
     "text": [
      "/anaconda/envs/dsi/lib/python2.7/site-packages/ipykernel/__main__.py:1: FutureWarning: sort(columns=....) is deprecated, use sort_values(by=.....)\n",
      "  if __name__ == '__main__':\n"
     ]
    },
    {
     "data": {
      "text/html": [
       "<div>\n",
       "<table border=\"1\" class=\"dataframe\">\n",
       "  <thead>\n",
       "    <tr style=\"text-align: right;\">\n",
       "      <th></th>\n",
       "      <th>ZIP</th>\n",
       "      <th>Population_2010_Census</th>\n",
       "      <th>ListPrice</th>\n",
       "      <th>price_per_cap</th>\n",
       "    </tr>\n",
       "  </thead>\n",
       "  <tbody>\n",
       "    <tr>\n",
       "      <th>9</th>\n",
       "      <td>55114</td>\n",
       "      <td>3100</td>\n",
       "      <td>150000</td>\n",
       "      <td>48.387097</td>\n",
       "    </tr>\n",
       "    <tr>\n",
       "      <th>18</th>\n",
       "      <td>55405</td>\n",
       "      <td>15411</td>\n",
       "      <td>699725</td>\n",
       "      <td>45.404257</td>\n",
       "    </tr>\n",
       "    <tr>\n",
       "      <th>22</th>\n",
       "      <td>55409</td>\n",
       "      <td>11615</td>\n",
       "      <td>368383</td>\n",
       "      <td>31.716143</td>\n",
       "    </tr>\n",
       "    <tr>\n",
       "      <th>23</th>\n",
       "      <td>55410</td>\n",
       "      <td>19340</td>\n",
       "      <td>569423</td>\n",
       "      <td>29.442761</td>\n",
       "    </tr>\n",
       "    <tr>\n",
       "      <th>27</th>\n",
       "      <td>55416</td>\n",
       "      <td>29027</td>\n",
       "      <td>548450</td>\n",
       "      <td>18.894478</td>\n",
       "    </tr>\n",
       "    <tr>\n",
       "      <th>14</th>\n",
       "      <td>55126</td>\n",
       "      <td>25140</td>\n",
       "      <td>464400</td>\n",
       "      <td>18.472554</td>\n",
       "    </tr>\n",
       "    <tr>\n",
       "      <th>15</th>\n",
       "      <td>55129</td>\n",
       "      <td>18697</td>\n",
       "      <td>319000</td>\n",
       "      <td>17.061561</td>\n",
       "    </tr>\n",
       "    <tr>\n",
       "      <th>10</th>\n",
       "      <td>55116</td>\n",
       "      <td>23851</td>\n",
       "      <td>368003</td>\n",
       "      <td>15.429248</td>\n",
       "    </tr>\n",
       "    <tr>\n",
       "      <th>26</th>\n",
       "      <td>55413</td>\n",
       "      <td>12934</td>\n",
       "      <td>195952</td>\n",
       "      <td>15.150147</td>\n",
       "    </tr>\n",
       "    <tr>\n",
       "      <th>30</th>\n",
       "      <td>55419</td>\n",
       "      <td>26406</td>\n",
       "      <td>389663</td>\n",
       "      <td>14.756608</td>\n",
       "    </tr>\n",
       "    <tr>\n",
       "      <th>7</th>\n",
       "      <td>55108</td>\n",
       "      <td>14688</td>\n",
       "      <td>209153</td>\n",
       "      <td>14.239719</td>\n",
       "    </tr>\n",
       "    <tr>\n",
       "      <th>1</th>\n",
       "      <td>55102</td>\n",
       "      <td>18207</td>\n",
       "      <td>254760</td>\n",
       "      <td>13.992420</td>\n",
       "    </tr>\n",
       "    <tr>\n",
       "      <th>4</th>\n",
       "      <td>55105</td>\n",
       "      <td>28455</td>\n",
       "      <td>392748</td>\n",
       "      <td>13.802425</td>\n",
       "    </tr>\n",
       "    <tr>\n",
       "      <th>0</th>\n",
       "      <td>55101</td>\n",
       "      <td>5592</td>\n",
       "      <td>67400</td>\n",
       "      <td>12.052933</td>\n",
       "    </tr>\n",
       "    <tr>\n",
       "      <th>21</th>\n",
       "      <td>55408</td>\n",
       "      <td>29981</td>\n",
       "      <td>351936</td>\n",
       "      <td>11.738634</td>\n",
       "    </tr>\n",
       "    <tr>\n",
       "      <th>6</th>\n",
       "      <td>55107</td>\n",
       "      <td>14776</td>\n",
       "      <td>144720</td>\n",
       "      <td>9.794261</td>\n",
       "    </tr>\n",
       "    <tr>\n",
       "      <th>28</th>\n",
       "      <td>55417</td>\n",
       "      <td>24875</td>\n",
       "      <td>224030</td>\n",
       "      <td>9.006231</td>\n",
       "    </tr>\n",
       "    <tr>\n",
       "      <th>2</th>\n",
       "      <td>55103</td>\n",
       "      <td>12991</td>\n",
       "      <td>103207</td>\n",
       "      <td>7.944500</td>\n",
       "    </tr>\n",
       "    <tr>\n",
       "      <th>16</th>\n",
       "      <td>55130</td>\n",
       "      <td>17575</td>\n",
       "      <td>124696</td>\n",
       "      <td>7.095078</td>\n",
       "    </tr>\n",
       "    <tr>\n",
       "      <th>19</th>\n",
       "      <td>55406</td>\n",
       "      <td>32112</td>\n",
       "      <td>221257</td>\n",
       "      <td>6.890166</td>\n",
       "    </tr>\n",
       "    <tr>\n",
       "      <th>17</th>\n",
       "      <td>55404</td>\n",
       "      <td>27121</td>\n",
       "      <td>183266</td>\n",
       "      <td>6.757347</td>\n",
       "    </tr>\n",
       "    <tr>\n",
       "      <th>29</th>\n",
       "      <td>55418</td>\n",
       "      <td>29472</td>\n",
       "      <td>189482</td>\n",
       "      <td>6.429221</td>\n",
       "    </tr>\n",
       "    <tr>\n",
       "      <th>32</th>\n",
       "      <td>55430</td>\n",
       "      <td>21508</td>\n",
       "      <td>123997</td>\n",
       "      <td>5.765157</td>\n",
       "    </tr>\n",
       "    <tr>\n",
       "      <th>12</th>\n",
       "      <td>55118</td>\n",
       "      <td>27548</td>\n",
       "      <td>154633</td>\n",
       "      <td>5.613221</td>\n",
       "    </tr>\n",
       "    <tr>\n",
       "      <th>8</th>\n",
       "      <td>55113</td>\n",
       "      <td>38994</td>\n",
       "      <td>214000</td>\n",
       "      <td>5.488024</td>\n",
       "    </tr>\n",
       "    <tr>\n",
       "      <th>31</th>\n",
       "      <td>55421</td>\n",
       "      <td>27035</td>\n",
       "      <td>147400</td>\n",
       "      <td>5.452192</td>\n",
       "    </tr>\n",
       "    <tr>\n",
       "      <th>20</th>\n",
       "      <td>55407</td>\n",
       "      <td>37881</td>\n",
       "      <td>195391</td>\n",
       "      <td>5.158021</td>\n",
       "    </tr>\n",
       "    <tr>\n",
       "      <th>3</th>\n",
       "      <td>55104</td>\n",
       "      <td>43248</td>\n",
       "      <td>200046</td>\n",
       "      <td>4.625555</td>\n",
       "    </tr>\n",
       "    <tr>\n",
       "      <th>25</th>\n",
       "      <td>55412</td>\n",
       "      <td>22148</td>\n",
       "      <td>102047</td>\n",
       "      <td>4.607504</td>\n",
       "    </tr>\n",
       "    <tr>\n",
       "      <th>13</th>\n",
       "      <td>55119</td>\n",
       "      <td>38966</td>\n",
       "      <td>142948</td>\n",
       "      <td>3.668532</td>\n",
       "    </tr>\n",
       "    <tr>\n",
       "      <th>11</th>\n",
       "      <td>55117</td>\n",
       "      <td>41649</td>\n",
       "      <td>150160</td>\n",
       "      <td>3.605369</td>\n",
       "    </tr>\n",
       "    <tr>\n",
       "      <th>24</th>\n",
       "      <td>55411</td>\n",
       "      <td>27428</td>\n",
       "      <td>96085</td>\n",
       "      <td>3.503172</td>\n",
       "    </tr>\n",
       "    <tr>\n",
       "      <th>5</th>\n",
       "      <td>55106</td>\n",
       "      <td>52730</td>\n",
       "      <td>130750</td>\n",
       "      <td>2.479613</td>\n",
       "    </tr>\n",
       "  </tbody>\n",
       "</table>\n",
       "</div>"
      ],
      "text/plain": [
       "      ZIP  Population_2010_Census  ListPrice  price_per_cap\n",
       "9   55114                    3100     150000      48.387097\n",
       "18  55405                   15411     699725      45.404257\n",
       "22  55409                   11615     368383      31.716143\n",
       "23  55410                   19340     569423      29.442761\n",
       "27  55416                   29027     548450      18.894478\n",
       "14  55126                   25140     464400      18.472554\n",
       "15  55129                   18697     319000      17.061561\n",
       "10  55116                   23851     368003      15.429248\n",
       "26  55413                   12934     195952      15.150147\n",
       "30  55419                   26406     389663      14.756608\n",
       "7   55108                   14688     209153      14.239719\n",
       "1   55102                   18207     254760      13.992420\n",
       "4   55105                   28455     392748      13.802425\n",
       "0   55101                    5592      67400      12.052933\n",
       "21  55408                   29981     351936      11.738634\n",
       "6   55107                   14776     144720       9.794261\n",
       "28  55417                   24875     224030       9.006231\n",
       "2   55103                   12991     103207       7.944500\n",
       "16  55130                   17575     124696       7.095078\n",
       "19  55406                   32112     221257       6.890166\n",
       "17  55404                   27121     183266       6.757347\n",
       "29  55418                   29472     189482       6.429221\n",
       "32  55430                   21508     123997       5.765157\n",
       "12  55118                   27548     154633       5.613221\n",
       "8   55113                   38994     214000       5.488024\n",
       "31  55421                   27035     147400       5.452192\n",
       "20  55407                   37881     195391       5.158021\n",
       "3   55104                   43248     200046       4.625555\n",
       "25  55412                   22148     102047       4.607504\n",
       "13  55119                   38966     142948       3.668532\n",
       "11  55117                   41649     150160       3.605369\n",
       "24  55411                   27428      96085       3.503172\n",
       "5   55106                   52730     130750       2.479613"
      ]
     },
     "execution_count": 314,
     "metadata": {},
     "output_type": "execute_result"
    }
   ],
   "source": [
    "price_cap.sort('price_per_cap', ascending=False)"
   ]
  },
  {
   "cell_type": "markdown",
   "metadata": {},
   "source": [
    "- zipcode 55114 has the highest price per person\n",
    "\n",
    "Why is the price so high?\n",
    "- Minneapolis–St. Paul is the headquarters for 19 Fortune 500 companies—more than any other metro its size—spanning retail (Target), health care (UnitedHealth), and food (General Mills). source: https://www.theatlantic.com/magazine/archive/2015/03/the-miracle-of-minneapolis/384975/\n",
    "- The area has the second largest economy in the Midwest, behind only Chicago.https://en.wikipedia.org/wiki/Minneapolis%E2%80%93Saint_Paul#Economy"
   ]
  },
  {
   "cell_type": "code",
   "execution_count": null,
   "metadata": {
    "collapsed": true
   },
   "outputs": [],
   "source": []
  }
 ],
 "metadata": {
  "anaconda-cloud": {},
  "kernelspec": {
   "display_name": "Python [dsi]",
   "language": "python",
   "name": "Python [dsi]"
  },
  "language_info": {
   "codemirror_mode": {
    "name": "ipython",
    "version": 2
   },
   "file_extension": ".py",
   "mimetype": "text/x-python",
   "name": "python",
   "nbconvert_exporter": "python",
   "pygments_lexer": "ipython2",
   "version": "2.7.12"
  }
 },
 "nbformat": 4,
 "nbformat_minor": 0
}
